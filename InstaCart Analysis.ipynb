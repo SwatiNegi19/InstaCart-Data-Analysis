{
 "cells": [
  {
   "cell_type": "markdown",
   "metadata": {},
   "source": [
    "# Importing Necessary Libraries"
   ]
  },
  {
   "cell_type": "code",
   "execution_count": 1,
   "metadata": {
    "execution": {
     "iopub.execute_input": "2024-11-14T23:05:23.321870Z",
     "iopub.status.busy": "2024-11-14T23:05:23.321385Z",
     "iopub.status.idle": "2024-11-14T23:05:24.464290Z",
     "shell.execute_reply": "2024-11-14T23:05:24.462977Z",
     "shell.execute_reply.started": "2024-11-14T23:05:23.321822Z"
    }
   },
   "outputs": [],
   "source": [
    "import pandas as pd"
   ]
  },
  {
   "cell_type": "markdown",
   "metadata": {},
   "source": [
    " ### Department File"
   ]
  },
  {
   "cell_type": "code",
   "execution_count": 2,
   "metadata": {
    "execution": {
     "iopub.execute_input": "2024-11-14T23:05:24.466384Z",
     "iopub.status.busy": "2024-11-14T23:05:24.465841Z",
     "iopub.status.idle": "2024-11-14T23:05:25.190984Z",
     "shell.execute_reply": "2024-11-14T23:05:25.185339Z",
     "shell.execute_reply.started": "2024-11-14T23:05:24.466346Z"
    }
   },
   "outputs": [
    {
     "data": {
      "text/html": [
       "<div>\n",
       "<style scoped>\n",
       "    .dataframe tbody tr th:only-of-type {\n",
       "        vertical-align: middle;\n",
       "    }\n",
       "\n",
       "    .dataframe tbody tr th {\n",
       "        vertical-align: top;\n",
       "    }\n",
       "\n",
       "    .dataframe thead th {\n",
       "        text-align: right;\n",
       "    }\n",
       "</style>\n",
       "<table border=\"1\" class=\"dataframe\">\n",
       "  <thead>\n",
       "    <tr style=\"text-align: right;\">\n",
       "      <th></th>\n",
       "      <th>department_id</th>\n",
       "      <th>department</th>\n",
       "    </tr>\n",
       "  </thead>\n",
       "  <tbody>\n",
       "    <tr>\n",
       "      <th>0</th>\n",
       "      <td>1</td>\n",
       "      <td>frozen</td>\n",
       "    </tr>\n",
       "    <tr>\n",
       "      <th>1</th>\n",
       "      <td>2</td>\n",
       "      <td>other</td>\n",
       "    </tr>\n",
       "    <tr>\n",
       "      <th>2</th>\n",
       "      <td>3</td>\n",
       "      <td>bakery</td>\n",
       "    </tr>\n",
       "    <tr>\n",
       "      <th>3</th>\n",
       "      <td>4</td>\n",
       "      <td>produce</td>\n",
       "    </tr>\n",
       "    <tr>\n",
       "      <th>4</th>\n",
       "      <td>5</td>\n",
       "      <td>alcohol</td>\n",
       "    </tr>\n",
       "  </tbody>\n",
       "</table>\n",
       "</div>"
      ],
      "text/plain": [
       "   department_id department\n",
       "0              1     frozen\n",
       "1              2      other\n",
       "2              3     bakery\n",
       "3              4    produce\n",
       "4              5    alcohol"
      ]
     },
     "execution_count": 2,
     "metadata": {},
     "output_type": "execute_result"
    }
   ],
   "source": [
    "dept = pd.read_csv('Downloads/InstaCart Dataset/departments.csv')\n",
    "dept.head()"
   ]
  },
  {
   "cell_type": "code",
   "execution_count": 3,
   "metadata": {
    "execution": {
     "iopub.status.busy": "2024-11-14T23:05:25.193226Z",
     "iopub.status.idle": "2024-11-14T23:05:25.193910Z",
     "shell.execute_reply": "2024-11-14T23:05:25.193525Z",
     "shell.execute_reply.started": "2024-11-14T23:05:25.193496Z"
    }
   },
   "outputs": [
    {
     "name": "stdout",
     "output_type": "stream",
     "text": [
      "<class 'pandas.core.frame.DataFrame'>\n",
      "RangeIndex: 21 entries, 0 to 20\n",
      "Data columns (total 2 columns):\n",
      " #   Column         Non-Null Count  Dtype \n",
      "---  ------         --------------  ----- \n",
      " 0   department_id  21 non-null     int64 \n",
      " 1   department     21 non-null     object\n",
      "dtypes: int64(1), object(1)\n",
      "memory usage: 464.0+ bytes\n"
     ]
    }
   ],
   "source": [
    "dept.info()"
   ]
  },
  {
   "cell_type": "code",
   "execution_count": 4,
   "metadata": {
    "execution": {
     "iopub.status.busy": "2024-11-14T23:05:25.195151Z",
     "iopub.status.idle": "2024-11-14T23:05:25.195667Z",
     "shell.execute_reply": "2024-11-14T23:05:25.195427Z",
     "shell.execute_reply.started": "2024-11-14T23:05:25.195400Z"
    }
   },
   "outputs": [
    {
     "data": {
      "text/plain": [
       "21"
      ]
     },
     "execution_count": 4,
     "metadata": {},
     "output_type": "execute_result"
    }
   ],
   "source": [
    "dept['department_id'].nunique() # Number of unique department_ids"
   ]
  },
  {
   "cell_type": "code",
   "execution_count": 5,
   "metadata": {
    "execution": {
     "iopub.status.busy": "2024-11-14T23:05:25.197412Z",
     "iopub.status.idle": "2024-11-14T23:05:25.197951Z",
     "shell.execute_reply": "2024-11-14T23:05:25.197707Z",
     "shell.execute_reply.started": "2024-11-14T23:05:25.197654Z"
    }
   },
   "outputs": [
    {
     "data": {
      "text/plain": [
       "array([ 1,  2,  3,  4,  5,  6,  7,  8,  9, 10, 11, 12, 13, 14, 15, 16, 17,\n",
       "       18, 19, 20, 21], dtype=int64)"
      ]
     },
     "execution_count": 5,
     "metadata": {},
     "output_type": "execute_result"
    }
   ],
   "source": [
    "dept['department_id'].unique() # Unique department_ids"
   ]
  },
  {
   "cell_type": "code",
   "execution_count": 6,
   "metadata": {
    "execution": {
     "iopub.status.busy": "2024-11-14T23:05:25.200495Z",
     "iopub.status.idle": "2024-11-14T23:05:25.201385Z",
     "shell.execute_reply": "2024-11-14T23:05:25.201131Z",
     "shell.execute_reply.started": "2024-11-14T23:05:25.201102Z"
    }
   },
   "outputs": [
    {
     "data": {
      "text/plain": [
       "21"
      ]
     },
     "execution_count": 6,
     "metadata": {},
     "output_type": "execute_result"
    }
   ],
   "source": [
    "dept['department'].nunique()  # Number of unique departments"
   ]
  },
  {
   "cell_type": "code",
   "execution_count": 7,
   "metadata": {
    "execution": {
     "iopub.status.busy": "2024-11-14T23:05:25.202935Z",
     "iopub.status.idle": "2024-11-14T23:05:25.203942Z",
     "shell.execute_reply": "2024-11-14T23:05:25.203653Z",
     "shell.execute_reply.started": "2024-11-14T23:05:25.203624Z"
    }
   },
   "outputs": [
    {
     "data": {
      "text/plain": [
       "array(['frozen', 'other', 'bakery', 'produce', 'alcohol', 'international',\n",
       "       'beverages', 'pets', 'dry goods pasta', 'bulk', 'personal care',\n",
       "       'meat seafood', 'pantry', 'breakfast', 'canned goods',\n",
       "       'dairy eggs', 'household', 'babies', 'snacks', 'deli', 'missing'],\n",
       "      dtype=object)"
      ]
     },
     "execution_count": 7,
     "metadata": {},
     "output_type": "execute_result"
    }
   ],
   "source": [
    "dept['department'].unique() # Unique departments"
   ]
  },
  {
   "cell_type": "markdown",
   "metadata": {},
   "source": [
    "Summary -> There are 21 Departments with their respective Department IDs"
   ]
  },
  {
   "cell_type": "markdown",
   "metadata": {},
   "source": [
    "### Orders File"
   ]
  },
  {
   "cell_type": "code",
   "execution_count": 8,
   "metadata": {
    "execution": {
     "iopub.status.busy": "2024-11-14T23:05:25.205308Z",
     "iopub.status.idle": "2024-11-14T23:05:25.206036Z",
     "shell.execute_reply": "2024-11-14T23:05:25.205779Z",
     "shell.execute_reply.started": "2024-11-14T23:05:25.205749Z"
    }
   },
   "outputs": [
    {
     "data": {
      "text/html": [
       "<div>\n",
       "<style scoped>\n",
       "    .dataframe tbody tr th:only-of-type {\n",
       "        vertical-align: middle;\n",
       "    }\n",
       "\n",
       "    .dataframe tbody tr th {\n",
       "        vertical-align: top;\n",
       "    }\n",
       "\n",
       "    .dataframe thead th {\n",
       "        text-align: right;\n",
       "    }\n",
       "</style>\n",
       "<table border=\"1\" class=\"dataframe\">\n",
       "  <thead>\n",
       "    <tr style=\"text-align: right;\">\n",
       "      <th></th>\n",
       "      <th>order_id</th>\n",
       "      <th>user_id</th>\n",
       "      <th>eval_set</th>\n",
       "      <th>order_number</th>\n",
       "      <th>order_dow</th>\n",
       "      <th>order_hour_of_day</th>\n",
       "      <th>days_since_prior_order</th>\n",
       "    </tr>\n",
       "  </thead>\n",
       "  <tbody>\n",
       "    <tr>\n",
       "      <th>0</th>\n",
       "      <td>2539329</td>\n",
       "      <td>1</td>\n",
       "      <td>prior</td>\n",
       "      <td>1</td>\n",
       "      <td>2</td>\n",
       "      <td>8</td>\n",
       "      <td>NaN</td>\n",
       "    </tr>\n",
       "    <tr>\n",
       "      <th>1</th>\n",
       "      <td>2398795</td>\n",
       "      <td>1</td>\n",
       "      <td>prior</td>\n",
       "      <td>2</td>\n",
       "      <td>3</td>\n",
       "      <td>7</td>\n",
       "      <td>15.0</td>\n",
       "    </tr>\n",
       "    <tr>\n",
       "      <th>2</th>\n",
       "      <td>473747</td>\n",
       "      <td>1</td>\n",
       "      <td>prior</td>\n",
       "      <td>3</td>\n",
       "      <td>3</td>\n",
       "      <td>12</td>\n",
       "      <td>21.0</td>\n",
       "    </tr>\n",
       "    <tr>\n",
       "      <th>3</th>\n",
       "      <td>2254736</td>\n",
       "      <td>1</td>\n",
       "      <td>prior</td>\n",
       "      <td>4</td>\n",
       "      <td>4</td>\n",
       "      <td>7</td>\n",
       "      <td>29.0</td>\n",
       "    </tr>\n",
       "    <tr>\n",
       "      <th>4</th>\n",
       "      <td>431534</td>\n",
       "      <td>1</td>\n",
       "      <td>prior</td>\n",
       "      <td>5</td>\n",
       "      <td>4</td>\n",
       "      <td>15</td>\n",
       "      <td>28.0</td>\n",
       "    </tr>\n",
       "  </tbody>\n",
       "</table>\n",
       "</div>"
      ],
      "text/plain": [
       "   order_id  user_id eval_set  order_number  order_dow  order_hour_of_day  \\\n",
       "0   2539329        1    prior             1          2                  8   \n",
       "1   2398795        1    prior             2          3                  7   \n",
       "2    473747        1    prior             3          3                 12   \n",
       "3   2254736        1    prior             4          4                  7   \n",
       "4    431534        1    prior             5          4                 15   \n",
       "\n",
       "   days_since_prior_order  \n",
       "0                     NaN  \n",
       "1                    15.0  \n",
       "2                    21.0  \n",
       "3                    29.0  \n",
       "4                    28.0  "
      ]
     },
     "execution_count": 8,
     "metadata": {},
     "output_type": "execute_result"
    }
   ],
   "source": [
    "orders = pd.read_csv('Downloads/InstaCart Dataset/orders.csv')\n",
    "orders.head()"
   ]
  },
  {
   "cell_type": "code",
   "execution_count": 9,
   "metadata": {
    "execution": {
     "iopub.status.busy": "2024-11-14T23:05:25.207541Z",
     "iopub.status.idle": "2024-11-14T23:05:25.208660Z",
     "shell.execute_reply": "2024-11-14T23:05:25.208407Z",
     "shell.execute_reply.started": "2024-11-14T23:05:25.208378Z"
    }
   },
   "outputs": [
    {
     "name": "stdout",
     "output_type": "stream",
     "text": [
      "<class 'pandas.core.frame.DataFrame'>\n",
      "RangeIndex: 3421083 entries, 0 to 3421082\n",
      "Data columns (total 7 columns):\n",
      " #   Column                  Dtype  \n",
      "---  ------                  -----  \n",
      " 0   order_id                int64  \n",
      " 1   user_id                 int64  \n",
      " 2   eval_set                object \n",
      " 3   order_number            int64  \n",
      " 4   order_dow               int64  \n",
      " 5   order_hour_of_day       int64  \n",
      " 6   days_since_prior_order  float64\n",
      "dtypes: float64(1), int64(5), object(1)\n",
      "memory usage: 182.7+ MB\n"
     ]
    }
   ],
   "source": [
    "orders.info()"
   ]
  },
  {
   "cell_type": "code",
   "execution_count": 10,
   "metadata": {
    "execution": {
     "iopub.status.busy": "2024-11-14T23:05:25.209845Z",
     "iopub.status.idle": "2024-11-14T23:05:25.211037Z",
     "shell.execute_reply": "2024-11-14T23:05:25.210778Z",
     "shell.execute_reply.started": "2024-11-14T23:05:25.210748Z"
    }
   },
   "outputs": [
    {
     "data": {
      "text/plain": [
       "(3421083, 7)"
      ]
     },
     "execution_count": 10,
     "metadata": {},
     "output_type": "execute_result"
    }
   ],
   "source": [
    "orders.shape"
   ]
  },
  {
   "cell_type": "code",
   "execution_count": 11,
   "metadata": {
    "execution": {
     "iopub.status.busy": "2024-11-14T23:05:25.212249Z",
     "iopub.status.idle": "2024-11-14T23:05:25.212778Z",
     "shell.execute_reply": "2024-11-14T23:05:25.212512Z",
     "shell.execute_reply.started": "2024-11-14T23:05:25.212486Z"
    }
   },
   "outputs": [
    {
     "data": {
      "text/plain": [
       "3421083"
      ]
     },
     "execution_count": 11,
     "metadata": {},
     "output_type": "execute_result"
    }
   ],
   "source": [
    "orders['order_id'].nunique() # since the no. of unique order ids is same as total no. of records therefore we have unique order id for each order"
   ]
  },
  {
   "cell_type": "code",
   "execution_count": 12,
   "metadata": {
    "execution": {
     "iopub.status.busy": "2024-11-14T23:05:25.213969Z",
     "iopub.status.idle": "2024-11-14T23:05:25.214479Z",
     "shell.execute_reply": "2024-11-14T23:05:25.214239Z",
     "shell.execute_reply.started": "2024-11-14T23:05:25.214213Z"
    }
   },
   "outputs": [
    {
     "data": {
      "text/plain": [
       "206209"
      ]
     },
     "execution_count": 12,
     "metadata": {},
     "output_type": "execute_result"
    }
   ],
   "source": [
    "orders['user_id'].nunique() # No. of unique user ids "
   ]
  },
  {
   "cell_type": "code",
   "execution_count": 13,
   "metadata": {
    "execution": {
     "iopub.status.busy": "2024-11-14T23:05:25.215651Z",
     "iopub.status.idle": "2024-11-14T23:05:25.216192Z",
     "shell.execute_reply": "2024-11-14T23:05:25.215951Z",
     "shell.execute_reply.started": "2024-11-14T23:05:25.215924Z"
    }
   },
   "outputs": [
    {
     "data": {
      "text/plain": [
       "100"
      ]
     },
     "execution_count": 13,
     "metadata": {},
     "output_type": "execute_result"
    }
   ],
   "source": [
    "orders['order_number'].nunique() # No. of unique order numbers"
   ]
  },
  {
   "cell_type": "code",
   "execution_count": 14,
   "metadata": {
    "execution": {
     "iopub.status.busy": "2024-11-14T23:05:25.217602Z",
     "iopub.status.idle": "2024-11-14T23:05:25.218131Z",
     "shell.execute_reply": "2024-11-14T23:05:25.217894Z",
     "shell.execute_reply.started": "2024-11-14T23:05:25.217867Z"
    }
   },
   "outputs": [
    {
     "data": {
      "text/plain": [
       "array([  1,   2,   3,   4,   5,   6,   7,   8,   9,  10,  11,  12,  13,\n",
       "        14,  15,  16,  17,  18,  19,  20,  21,  22,  23,  24,  25,  26,\n",
       "        27,  28,  29,  30,  31,  32,  33,  34,  35,  36,  37,  38,  39,\n",
       "        40,  41,  42,  43,  44,  45,  46,  47,  48,  49,  50,  51,  52,\n",
       "        53,  54,  55,  56,  57,  58,  59,  60,  61,  62,  63,  64,  65,\n",
       "        66,  67,  68,  69,  70,  71,  72,  73,  74,  75,  76,  77,  78,\n",
       "        79,  80,  81,  82,  83,  84,  85,  86,  87,  88,  89,  90,  91,\n",
       "        92,  93,  94,  95,  96,  97,  98,  99, 100], dtype=int64)"
      ]
     },
     "execution_count": 14,
     "metadata": {},
     "output_type": "execute_result"
    }
   ],
   "source": [
    "orders['order_number'].unique()"
   ]
  },
  {
   "cell_type": "code",
   "execution_count": 15,
   "metadata": {
    "execution": {
     "iopub.status.busy": "2024-11-14T23:05:25.219274Z",
     "iopub.status.idle": "2024-11-14T23:05:25.220320Z",
     "shell.execute_reply": "2024-11-14T23:05:25.220051Z",
     "shell.execute_reply.started": "2024-11-14T23:05:25.220019Z"
    }
   },
   "outputs": [
    {
     "data": {
      "text/plain": [
       "array([2, 3, 4, 1, 5, 0, 6], dtype=int64)"
      ]
     },
     "execution_count": 15,
     "metadata": {},
     "output_type": "execute_result"
    }
   ],
   "source": [
    "orders['order_dow'].unique()"
   ]
  },
  {
   "cell_type": "code",
   "execution_count": 16,
   "metadata": {
    "execution": {
     "iopub.status.busy": "2024-11-14T23:05:25.221650Z",
     "iopub.status.idle": "2024-11-14T23:05:25.222205Z",
     "shell.execute_reply": "2024-11-14T23:05:25.221953Z",
     "shell.execute_reply.started": "2024-11-14T23:05:25.221926Z"
    }
   },
   "outputs": [
    {
     "data": {
      "text/plain": [
       "array([ 8,  7, 12, 15,  9, 14, 16, 11, 10, 19, 18, 17, 13, 20,  0, 21, 22,\n",
       "        5, 23,  4,  6,  1,  2,  3], dtype=int64)"
      ]
     },
     "execution_count": 16,
     "metadata": {},
     "output_type": "execute_result"
    }
   ],
   "source": [
    "orders['order_hour_of_day'].nunique()\n",
    "orders['order_hour_of_day'].unique()"
   ]
  },
  {
   "cell_type": "code",
   "execution_count": 17,
   "metadata": {
    "execution": {
     "iopub.status.busy": "2024-11-14T23:05:25.223603Z",
     "iopub.status.idle": "2024-11-14T23:05:25.224252Z",
     "shell.execute_reply": "2024-11-14T23:05:25.223986Z",
     "shell.execute_reply.started": "2024-11-14T23:05:25.223955Z"
    }
   },
   "outputs": [
    {
     "data": {
      "text/plain": [
       "array([nan, 15., 21., 29., 28., 19., 20., 14.,  0., 30., 10.,  3.,  8.,\n",
       "       13., 27.,  6.,  9., 12.,  7., 17., 11., 22.,  4.,  5.,  2., 23.,\n",
       "       26., 25., 16.,  1., 18., 24.])"
      ]
     },
     "execution_count": 17,
     "metadata": {},
     "output_type": "execute_result"
    }
   ],
   "source": [
    "orders['days_since_prior_order'].nunique()\n",
    "orders['days_since_prior_order'].unique()"
   ]
  },
  {
   "cell_type": "markdown",
   "metadata": {},
   "source": [
    "### Products File"
   ]
  },
  {
   "cell_type": "code",
   "execution_count": 18,
   "metadata": {
    "execution": {
     "iopub.status.busy": "2024-11-14T23:05:25.226332Z",
     "iopub.status.idle": "2024-11-14T23:05:25.226917Z",
     "shell.execute_reply": "2024-11-14T23:05:25.226615Z",
     "shell.execute_reply.started": "2024-11-14T23:05:25.226587Z"
    }
   },
   "outputs": [
    {
     "data": {
      "text/html": [
       "<div>\n",
       "<style scoped>\n",
       "    .dataframe tbody tr th:only-of-type {\n",
       "        vertical-align: middle;\n",
       "    }\n",
       "\n",
       "    .dataframe tbody tr th {\n",
       "        vertical-align: top;\n",
       "    }\n",
       "\n",
       "    .dataframe thead th {\n",
       "        text-align: right;\n",
       "    }\n",
       "</style>\n",
       "<table border=\"1\" class=\"dataframe\">\n",
       "  <thead>\n",
       "    <tr style=\"text-align: right;\">\n",
       "      <th></th>\n",
       "      <th>product_id</th>\n",
       "      <th>product_name</th>\n",
       "      <th>aisle_id</th>\n",
       "      <th>department_id</th>\n",
       "    </tr>\n",
       "  </thead>\n",
       "  <tbody>\n",
       "    <tr>\n",
       "      <th>0</th>\n",
       "      <td>1</td>\n",
       "      <td>Chocolate Sandwich Cookies</td>\n",
       "      <td>61</td>\n",
       "      <td>19</td>\n",
       "    </tr>\n",
       "    <tr>\n",
       "      <th>1</th>\n",
       "      <td>2</td>\n",
       "      <td>All-Seasons Salt</td>\n",
       "      <td>104</td>\n",
       "      <td>13</td>\n",
       "    </tr>\n",
       "    <tr>\n",
       "      <th>2</th>\n",
       "      <td>3</td>\n",
       "      <td>Robust Golden Unsweetened Oolong Tea</td>\n",
       "      <td>94</td>\n",
       "      <td>7</td>\n",
       "    </tr>\n",
       "    <tr>\n",
       "      <th>3</th>\n",
       "      <td>4</td>\n",
       "      <td>Smart Ones Classic Favorites Mini Rigatoni Wit...</td>\n",
       "      <td>38</td>\n",
       "      <td>1</td>\n",
       "    </tr>\n",
       "    <tr>\n",
       "      <th>4</th>\n",
       "      <td>5</td>\n",
       "      <td>Green Chile Anytime Sauce</td>\n",
       "      <td>5</td>\n",
       "      <td>13</td>\n",
       "    </tr>\n",
       "  </tbody>\n",
       "</table>\n",
       "</div>"
      ],
      "text/plain": [
       "   product_id                                       product_name  aisle_id  \\\n",
       "0           1                         Chocolate Sandwich Cookies        61   \n",
       "1           2                                   All-Seasons Salt       104   \n",
       "2           3               Robust Golden Unsweetened Oolong Tea        94   \n",
       "3           4  Smart Ones Classic Favorites Mini Rigatoni Wit...        38   \n",
       "4           5                          Green Chile Anytime Sauce         5   \n",
       "\n",
       "   department_id  \n",
       "0             19  \n",
       "1             13  \n",
       "2              7  \n",
       "3              1  \n",
       "4             13  "
      ]
     },
     "execution_count": 18,
     "metadata": {},
     "output_type": "execute_result"
    }
   ],
   "source": [
    "products = pd.read_csv('Downloads/InstaCart Dataset/products.csv')\n",
    "products.head()"
   ]
  },
  {
   "cell_type": "code",
   "execution_count": 19,
   "metadata": {
    "execution": {
     "iopub.status.busy": "2024-11-14T23:05:25.229479Z",
     "iopub.status.idle": "2024-11-14T23:05:25.230029Z",
     "shell.execute_reply": "2024-11-14T23:05:25.229782Z",
     "shell.execute_reply.started": "2024-11-14T23:05:25.229754Z"
    }
   },
   "outputs": [
    {
     "data": {
      "text/plain": [
       "49688"
      ]
     },
     "execution_count": 19,
     "metadata": {},
     "output_type": "execute_result"
    }
   ],
   "source": [
    "products['product_id'].nunique()"
   ]
  },
  {
   "cell_type": "code",
   "execution_count": 20,
   "metadata": {
    "execution": {
     "iopub.status.busy": "2024-11-14T23:05:25.231429Z",
     "iopub.status.idle": "2024-11-14T23:05:25.231968Z",
     "shell.execute_reply": "2024-11-14T23:05:25.231725Z",
     "shell.execute_reply.started": "2024-11-14T23:05:25.231668Z"
    }
   },
   "outputs": [
    {
     "data": {
      "text/plain": [
       "array([    1,     2,     3, ..., 49686, 49687, 49688], dtype=int64)"
      ]
     },
     "execution_count": 20,
     "metadata": {},
     "output_type": "execute_result"
    }
   ],
   "source": [
    "products['product_id'].unique()"
   ]
  },
  {
   "cell_type": "code",
   "execution_count": 21,
   "metadata": {
    "execution": {
     "iopub.status.busy": "2024-11-14T23:05:25.233338Z",
     "iopub.status.idle": "2024-11-14T23:05:25.233895Z",
     "shell.execute_reply": "2024-11-14T23:05:25.233615Z",
     "shell.execute_reply.started": "2024-11-14T23:05:25.233579Z"
    }
   },
   "outputs": [
    {
     "data": {
      "text/plain": [
       "49688"
      ]
     },
     "execution_count": 21,
     "metadata": {},
     "output_type": "execute_result"
    }
   ],
   "source": [
    "products['product_name'].nunique()"
   ]
  },
  {
   "cell_type": "code",
   "execution_count": 22,
   "metadata": {
    "execution": {
     "iopub.status.busy": "2024-11-14T23:05:25.235407Z",
     "iopub.status.idle": "2024-11-14T23:05:25.235950Z",
     "shell.execute_reply": "2024-11-14T23:05:25.235702Z",
     "shell.execute_reply.started": "2024-11-14T23:05:25.235646Z"
    }
   },
   "outputs": [
    {
     "data": {
      "text/plain": [
       "134"
      ]
     },
     "execution_count": 22,
     "metadata": {},
     "output_type": "execute_result"
    }
   ],
   "source": [
    "products['aisle_id'].nunique()"
   ]
  },
  {
   "cell_type": "code",
   "execution_count": 23,
   "metadata": {
    "execution": {
     "iopub.status.busy": "2024-11-14T23:05:25.241529Z",
     "iopub.status.idle": "2024-11-14T23:05:25.242159Z",
     "shell.execute_reply": "2024-11-14T23:05:25.241914Z",
     "shell.execute_reply.started": "2024-11-14T23:05:25.241885Z"
    }
   },
   "outputs": [
    {
     "data": {
      "text/plain": [
       "array([ 61, 104,  94,  38,   5,  11,  98, 116, 120, 115,  31, 119,  74,\n",
       "        56, 103,  35,  79,  63,  40,  20,  49,  47,   3,  41, 127, 121,\n",
       "        81, 123, 107, 131, 106,  69, 100,  64,  78,  83,  58,  66,  87,\n",
       "        14, 105,  22, 134,  23, 111, 128,  50,   9,  96,  92,  89,  88,\n",
       "       130,  26,  77,  65,  12,  95,  19,   7,   6,  97,   2, 112,  10,\n",
       "        51,  13,  75,  70,  93,  34,  62,  21,  29,  45, 118,   4, 108,\n",
       "        37, 109,  91,  24,  67, 132,  25, 129,  46,  16,  52,  17,  73,\n",
       "       122,  42,  59, 126,  33,   1,   8,  82, 114, 124, 117,  72, 110,\n",
       "        85,  44,  80, 101,  84,  30,  27,  90,  48, 133,  53,  28,  68,\n",
       "        43, 125,  57,  15,  55,  36,  54, 102,  60,  99,  18,  39,  71,\n",
       "       113,  86,  32,  76], dtype=int64)"
      ]
     },
     "execution_count": 23,
     "metadata": {},
     "output_type": "execute_result"
    }
   ],
   "source": [
    "products['aisle_id'].unique()"
   ]
  },
  {
   "cell_type": "code",
   "execution_count": 24,
   "metadata": {
    "execution": {
     "iopub.status.busy": "2024-11-14T23:05:25.243512Z",
     "iopub.status.idle": "2024-11-14T23:05:25.244046Z",
     "shell.execute_reply": "2024-11-14T23:05:25.243794Z",
     "shell.execute_reply.started": "2024-11-14T23:05:25.243767Z"
    }
   },
   "outputs": [
    {
     "data": {
      "text/plain": [
       "21"
      ]
     },
     "execution_count": 24,
     "metadata": {},
     "output_type": "execute_result"
    }
   ],
   "source": [
    "products['department_id'].nunique()"
   ]
  },
  {
   "cell_type": "code",
   "execution_count": 25,
   "metadata": {
    "execution": {
     "iopub.status.busy": "2024-11-14T23:05:25.245243Z",
     "iopub.status.idle": "2024-11-14T23:05:25.245790Z",
     "shell.execute_reply": "2024-11-14T23:05:25.245522Z",
     "shell.execute_reply.started": "2024-11-14T23:05:25.245477Z"
    }
   },
   "outputs": [
    {
     "data": {
      "text/plain": [
       "array([19, 13,  7,  1, 11, 16, 17, 18, 12,  9,  8, 14, 15,  4, 21,  6, 20,\n",
       "        5,  3,  2, 10], dtype=int64)"
      ]
     },
     "execution_count": 25,
     "metadata": {},
     "output_type": "execute_result"
    }
   ],
   "source": [
    "products['department_id'].unique()"
   ]
  },
  {
   "cell_type": "code",
   "execution_count": 26,
   "metadata": {
    "execution": {
     "iopub.status.busy": "2024-11-14T23:05:25.247708Z",
     "iopub.status.idle": "2024-11-14T23:05:25.248204Z",
     "shell.execute_reply": "2024-11-14T23:05:25.247975Z",
     "shell.execute_reply.started": "2024-11-14T23:05:25.247949Z"
    }
   },
   "outputs": [
    {
     "data": {
      "text/html": [
       "<div>\n",
       "<style scoped>\n",
       "    .dataframe tbody tr th:only-of-type {\n",
       "        vertical-align: middle;\n",
       "    }\n",
       "\n",
       "    .dataframe tbody tr th {\n",
       "        vertical-align: top;\n",
       "    }\n",
       "\n",
       "    .dataframe thead th {\n",
       "        text-align: right;\n",
       "    }\n",
       "</style>\n",
       "<table border=\"1\" class=\"dataframe\">\n",
       "  <thead>\n",
       "    <tr style=\"text-align: right;\">\n",
       "      <th></th>\n",
       "      <th>product_id</th>\n",
       "      <th>aisle_id</th>\n",
       "      <th>department_id</th>\n",
       "    </tr>\n",
       "  </thead>\n",
       "  <tbody>\n",
       "    <tr>\n",
       "      <th>count</th>\n",
       "      <td>49688.000000</td>\n",
       "      <td>49688.000000</td>\n",
       "      <td>49688.000000</td>\n",
       "    </tr>\n",
       "    <tr>\n",
       "      <th>mean</th>\n",
       "      <td>24844.500000</td>\n",
       "      <td>67.769582</td>\n",
       "      <td>11.728687</td>\n",
       "    </tr>\n",
       "    <tr>\n",
       "      <th>std</th>\n",
       "      <td>14343.834425</td>\n",
       "      <td>38.316162</td>\n",
       "      <td>5.850410</td>\n",
       "    </tr>\n",
       "    <tr>\n",
       "      <th>min</th>\n",
       "      <td>1.000000</td>\n",
       "      <td>1.000000</td>\n",
       "      <td>1.000000</td>\n",
       "    </tr>\n",
       "    <tr>\n",
       "      <th>25%</th>\n",
       "      <td>12422.750000</td>\n",
       "      <td>35.000000</td>\n",
       "      <td>7.000000</td>\n",
       "    </tr>\n",
       "    <tr>\n",
       "      <th>50%</th>\n",
       "      <td>24844.500000</td>\n",
       "      <td>69.000000</td>\n",
       "      <td>13.000000</td>\n",
       "    </tr>\n",
       "    <tr>\n",
       "      <th>75%</th>\n",
       "      <td>37266.250000</td>\n",
       "      <td>100.000000</td>\n",
       "      <td>17.000000</td>\n",
       "    </tr>\n",
       "    <tr>\n",
       "      <th>max</th>\n",
       "      <td>49688.000000</td>\n",
       "      <td>134.000000</td>\n",
       "      <td>21.000000</td>\n",
       "    </tr>\n",
       "  </tbody>\n",
       "</table>\n",
       "</div>"
      ],
      "text/plain": [
       "         product_id      aisle_id  department_id\n",
       "count  49688.000000  49688.000000   49688.000000\n",
       "mean   24844.500000     67.769582      11.728687\n",
       "std    14343.834425     38.316162       5.850410\n",
       "min        1.000000      1.000000       1.000000\n",
       "25%    12422.750000     35.000000       7.000000\n",
       "50%    24844.500000     69.000000      13.000000\n",
       "75%    37266.250000    100.000000      17.000000\n",
       "max    49688.000000    134.000000      21.000000"
      ]
     },
     "execution_count": 26,
     "metadata": {},
     "output_type": "execute_result"
    }
   ],
   "source": [
    "products.describe()"
   ]
  },
  {
   "cell_type": "markdown",
   "metadata": {},
   "source": [
    "### order_prod_prior File"
   ]
  },
  {
   "cell_type": "code",
   "execution_count": 27,
   "metadata": {
    "execution": {
     "iopub.status.busy": "2024-11-14T23:05:25.249503Z",
     "iopub.status.idle": "2024-11-14T23:05:25.250044Z",
     "shell.execute_reply": "2024-11-14T23:05:25.249788Z",
     "shell.execute_reply.started": "2024-11-14T23:05:25.249760Z"
    }
   },
   "outputs": [
    {
     "data": {
      "text/html": [
       "<div>\n",
       "<style scoped>\n",
       "    .dataframe tbody tr th:only-of-type {\n",
       "        vertical-align: middle;\n",
       "    }\n",
       "\n",
       "    .dataframe tbody tr th {\n",
       "        vertical-align: top;\n",
       "    }\n",
       "\n",
       "    .dataframe thead th {\n",
       "        text-align: right;\n",
       "    }\n",
       "</style>\n",
       "<table border=\"1\" class=\"dataframe\">\n",
       "  <thead>\n",
       "    <tr style=\"text-align: right;\">\n",
       "      <th></th>\n",
       "      <th>order_id</th>\n",
       "      <th>product_id</th>\n",
       "      <th>add_to_cart_order</th>\n",
       "      <th>reordered</th>\n",
       "    </tr>\n",
       "  </thead>\n",
       "  <tbody>\n",
       "    <tr>\n",
       "      <th>0</th>\n",
       "      <td>2</td>\n",
       "      <td>33120</td>\n",
       "      <td>1</td>\n",
       "      <td>1</td>\n",
       "    </tr>\n",
       "    <tr>\n",
       "      <th>1</th>\n",
       "      <td>2</td>\n",
       "      <td>28985</td>\n",
       "      <td>2</td>\n",
       "      <td>1</td>\n",
       "    </tr>\n",
       "    <tr>\n",
       "      <th>2</th>\n",
       "      <td>2</td>\n",
       "      <td>9327</td>\n",
       "      <td>3</td>\n",
       "      <td>0</td>\n",
       "    </tr>\n",
       "    <tr>\n",
       "      <th>3</th>\n",
       "      <td>2</td>\n",
       "      <td>45918</td>\n",
       "      <td>4</td>\n",
       "      <td>1</td>\n",
       "    </tr>\n",
       "    <tr>\n",
       "      <th>4</th>\n",
       "      <td>2</td>\n",
       "      <td>30035</td>\n",
       "      <td>5</td>\n",
       "      <td>0</td>\n",
       "    </tr>\n",
       "  </tbody>\n",
       "</table>\n",
       "</div>"
      ],
      "text/plain": [
       "   order_id  product_id  add_to_cart_order  reordered\n",
       "0         2       33120                  1          1\n",
       "1         2       28985                  2          1\n",
       "2         2        9327                  3          0\n",
       "3         2       45918                  4          1\n",
       "4         2       30035                  5          0"
      ]
     },
     "execution_count": 27,
     "metadata": {},
     "output_type": "execute_result"
    }
   ],
   "source": [
    "order_prod_prior = pd.read_csv('Downloads/InstaCart Dataset/order_products__prior.csv')\n",
    "order_prod_prior.head()\n",
    "#order_prod_prior.shape"
   ]
  },
  {
   "cell_type": "markdown",
   "metadata": {},
   "source": [
    "### Aisle File"
   ]
  },
  {
   "cell_type": "code",
   "execution_count": 28,
   "metadata": {
    "execution": {
     "iopub.status.busy": "2024-11-14T23:05:25.251506Z",
     "iopub.status.idle": "2024-11-14T23:05:25.252050Z",
     "shell.execute_reply": "2024-11-14T23:05:25.251793Z",
     "shell.execute_reply.started": "2024-11-14T23:05:25.251765Z"
    }
   },
   "outputs": [
    {
     "data": {
      "text/html": [
       "<div>\n",
       "<style scoped>\n",
       "    .dataframe tbody tr th:only-of-type {\n",
       "        vertical-align: middle;\n",
       "    }\n",
       "\n",
       "    .dataframe tbody tr th {\n",
       "        vertical-align: top;\n",
       "    }\n",
       "\n",
       "    .dataframe thead th {\n",
       "        text-align: right;\n",
       "    }\n",
       "</style>\n",
       "<table border=\"1\" class=\"dataframe\">\n",
       "  <thead>\n",
       "    <tr style=\"text-align: right;\">\n",
       "      <th></th>\n",
       "      <th>aisle_id</th>\n",
       "      <th>aisle</th>\n",
       "    </tr>\n",
       "  </thead>\n",
       "  <tbody>\n",
       "    <tr>\n",
       "      <th>0</th>\n",
       "      <td>1</td>\n",
       "      <td>prepared soups salads</td>\n",
       "    </tr>\n",
       "    <tr>\n",
       "      <th>1</th>\n",
       "      <td>2</td>\n",
       "      <td>specialty cheeses</td>\n",
       "    </tr>\n",
       "    <tr>\n",
       "      <th>2</th>\n",
       "      <td>3</td>\n",
       "      <td>energy granola bars</td>\n",
       "    </tr>\n",
       "    <tr>\n",
       "      <th>3</th>\n",
       "      <td>4</td>\n",
       "      <td>instant foods</td>\n",
       "    </tr>\n",
       "    <tr>\n",
       "      <th>4</th>\n",
       "      <td>5</td>\n",
       "      <td>marinades meat preparation</td>\n",
       "    </tr>\n",
       "  </tbody>\n",
       "</table>\n",
       "</div>"
      ],
      "text/plain": [
       "   aisle_id                       aisle\n",
       "0         1       prepared soups salads\n",
       "1         2           specialty cheeses\n",
       "2         3         energy granola bars\n",
       "3         4               instant foods\n",
       "4         5  marinades meat preparation"
      ]
     },
     "execution_count": 28,
     "metadata": {},
     "output_type": "execute_result"
    }
   ],
   "source": [
    "aisle = pd.read_csv('Downloads/InstaCart Dataset/aisles.csv')\n",
    "aisle.head()\n",
    "# aisle.tail()\n",
    "# aisle.info()\n",
    "# aisle.describe()"
   ]
  },
  {
   "cell_type": "code",
   "execution_count": 29,
   "metadata": {
    "execution": {
     "iopub.status.busy": "2024-11-14T23:05:25.253544Z",
     "iopub.status.idle": "2024-11-14T23:05:25.254193Z",
     "shell.execute_reply": "2024-11-14T23:05:25.253951Z",
     "shell.execute_reply.started": "2024-11-14T23:05:25.253916Z"
    }
   },
   "outputs": [
    {
     "data": {
      "text/plain": [
       "134"
      ]
     },
     "execution_count": 29,
     "metadata": {},
     "output_type": "execute_result"
    }
   ],
   "source": [
    "aisle['aisle_id'].nunique()"
   ]
  },
  {
   "cell_type": "code",
   "execution_count": 30,
   "metadata": {
    "execution": {
     "iopub.status.busy": "2024-11-14T23:05:25.255722Z",
     "iopub.status.idle": "2024-11-14T23:05:25.256194Z",
     "shell.execute_reply": "2024-11-14T23:05:25.255977Z",
     "shell.execute_reply.started": "2024-11-14T23:05:25.255952Z"
    }
   },
   "outputs": [
    {
     "data": {
      "text/plain": [
       "134"
      ]
     },
     "execution_count": 30,
     "metadata": {},
     "output_type": "execute_result"
    }
   ],
   "source": [
    "aisle['aisle'].nunique()\n",
    "# aisle['aisle'].unique()"
   ]
  },
  {
   "cell_type": "markdown",
   "metadata": {},
   "source": [
    "# Joining"
   ]
  },
  {
   "cell_type": "code",
   "execution_count": 31,
   "metadata": {
    "execution": {
     "iopub.status.busy": "2024-11-14T23:05:25.257429Z",
     "iopub.status.idle": "2024-11-14T23:05:25.257963Z",
     "shell.execute_reply": "2024-11-14T23:05:25.257707Z",
     "shell.execute_reply.started": "2024-11-14T23:05:25.257656Z"
    }
   },
   "outputs": [
    {
     "data": {
      "text/html": [
       "<div>\n",
       "<style scoped>\n",
       "    .dataframe tbody tr th:only-of-type {\n",
       "        vertical-align: middle;\n",
       "    }\n",
       "\n",
       "    .dataframe tbody tr th {\n",
       "        vertical-align: top;\n",
       "    }\n",
       "\n",
       "    .dataframe thead th {\n",
       "        text-align: right;\n",
       "    }\n",
       "</style>\n",
       "<table border=\"1\" class=\"dataframe\">\n",
       "  <thead>\n",
       "    <tr style=\"text-align: right;\">\n",
       "      <th></th>\n",
       "      <th>product_id</th>\n",
       "      <th>product_name</th>\n",
       "      <th>aisle_id</th>\n",
       "      <th>department_id</th>\n",
       "      <th>aisle</th>\n",
       "    </tr>\n",
       "  </thead>\n",
       "  <tbody>\n",
       "    <tr>\n",
       "      <th>0</th>\n",
       "      <td>1</td>\n",
       "      <td>Chocolate Sandwich Cookies</td>\n",
       "      <td>61</td>\n",
       "      <td>19</td>\n",
       "      <td>cookies cakes</td>\n",
       "    </tr>\n",
       "    <tr>\n",
       "      <th>1</th>\n",
       "      <td>2</td>\n",
       "      <td>All-Seasons Salt</td>\n",
       "      <td>104</td>\n",
       "      <td>13</td>\n",
       "      <td>spices seasonings</td>\n",
       "    </tr>\n",
       "    <tr>\n",
       "      <th>2</th>\n",
       "      <td>3</td>\n",
       "      <td>Robust Golden Unsweetened Oolong Tea</td>\n",
       "      <td>94</td>\n",
       "      <td>7</td>\n",
       "      <td>tea</td>\n",
       "    </tr>\n",
       "    <tr>\n",
       "      <th>3</th>\n",
       "      <td>4</td>\n",
       "      <td>Smart Ones Classic Favorites Mini Rigatoni Wit...</td>\n",
       "      <td>38</td>\n",
       "      <td>1</td>\n",
       "      <td>frozen meals</td>\n",
       "    </tr>\n",
       "    <tr>\n",
       "      <th>4</th>\n",
       "      <td>5</td>\n",
       "      <td>Green Chile Anytime Sauce</td>\n",
       "      <td>5</td>\n",
       "      <td>13</td>\n",
       "      <td>marinades meat preparation</td>\n",
       "    </tr>\n",
       "    <tr>\n",
       "      <th>...</th>\n",
       "      <td>...</td>\n",
       "      <td>...</td>\n",
       "      <td>...</td>\n",
       "      <td>...</td>\n",
       "      <td>...</td>\n",
       "    </tr>\n",
       "    <tr>\n",
       "      <th>49683</th>\n",
       "      <td>49684</td>\n",
       "      <td>Vodka, Triple Distilled, Twist of Vanilla</td>\n",
       "      <td>124</td>\n",
       "      <td>5</td>\n",
       "      <td>spirits</td>\n",
       "    </tr>\n",
       "    <tr>\n",
       "      <th>49684</th>\n",
       "      <td>49685</td>\n",
       "      <td>En Croute Roast Hazelnut Cranberry</td>\n",
       "      <td>42</td>\n",
       "      <td>1</td>\n",
       "      <td>frozen vegan vegetarian</td>\n",
       "    </tr>\n",
       "    <tr>\n",
       "      <th>49685</th>\n",
       "      <td>49686</td>\n",
       "      <td>Artisan Baguette</td>\n",
       "      <td>112</td>\n",
       "      <td>3</td>\n",
       "      <td>bread</td>\n",
       "    </tr>\n",
       "    <tr>\n",
       "      <th>49686</th>\n",
       "      <td>49687</td>\n",
       "      <td>Smartblend Healthy Metabolism Dry Cat Food</td>\n",
       "      <td>41</td>\n",
       "      <td>8</td>\n",
       "      <td>cat food care</td>\n",
       "    </tr>\n",
       "    <tr>\n",
       "      <th>49687</th>\n",
       "      <td>49688</td>\n",
       "      <td>Fresh Foaming Cleanser</td>\n",
       "      <td>73</td>\n",
       "      <td>11</td>\n",
       "      <td>facial care</td>\n",
       "    </tr>\n",
       "  </tbody>\n",
       "</table>\n",
       "<p>49688 rows × 5 columns</p>\n",
       "</div>"
      ],
      "text/plain": [
       "       product_id                                       product_name  \\\n",
       "0               1                         Chocolate Sandwich Cookies   \n",
       "1               2                                   All-Seasons Salt   \n",
       "2               3               Robust Golden Unsweetened Oolong Tea   \n",
       "3               4  Smart Ones Classic Favorites Mini Rigatoni Wit...   \n",
       "4               5                          Green Chile Anytime Sauce   \n",
       "...           ...                                                ...   \n",
       "49683       49684          Vodka, Triple Distilled, Twist of Vanilla   \n",
       "49684       49685                 En Croute Roast Hazelnut Cranberry   \n",
       "49685       49686                                   Artisan Baguette   \n",
       "49686       49687         Smartblend Healthy Metabolism Dry Cat Food   \n",
       "49687       49688                             Fresh Foaming Cleanser   \n",
       "\n",
       "       aisle_id  department_id                       aisle  \n",
       "0            61             19               cookies cakes  \n",
       "1           104             13           spices seasonings  \n",
       "2            94              7                         tea  \n",
       "3            38              1                frozen meals  \n",
       "4             5             13  marinades meat preparation  \n",
       "...         ...            ...                         ...  \n",
       "49683       124              5                     spirits  \n",
       "49684        42              1     frozen vegan vegetarian  \n",
       "49685       112              3                       bread  \n",
       "49686        41              8               cat food care  \n",
       "49687        73             11                 facial care  \n",
       "\n",
       "[49688 rows x 5 columns]"
      ]
     },
     "execution_count": 31,
     "metadata": {},
     "output_type": "execute_result"
    }
   ],
   "source": [
    "join_1 = pd.merge(products, aisle, how='left', on='aisle_id')\n",
    "join_1"
   ]
  },
  {
   "cell_type": "code",
   "execution_count": 32,
   "metadata": {
    "execution": {
     "iopub.status.busy": "2024-11-14T23:05:25.259154Z",
     "iopub.status.idle": "2024-11-14T23:05:25.259655Z",
     "shell.execute_reply": "2024-11-14T23:05:25.259409Z",
     "shell.execute_reply.started": "2024-11-14T23:05:25.259383Z"
    }
   },
   "outputs": [
    {
     "data": {
      "text/html": [
       "<div>\n",
       "<style scoped>\n",
       "    .dataframe tbody tr th:only-of-type {\n",
       "        vertical-align: middle;\n",
       "    }\n",
       "\n",
       "    .dataframe tbody tr th {\n",
       "        vertical-align: top;\n",
       "    }\n",
       "\n",
       "    .dataframe thead th {\n",
       "        text-align: right;\n",
       "    }\n",
       "</style>\n",
       "<table border=\"1\" class=\"dataframe\">\n",
       "  <thead>\n",
       "    <tr style=\"text-align: right;\">\n",
       "      <th></th>\n",
       "      <th>product_id</th>\n",
       "      <th>product_name</th>\n",
       "      <th>aisle_id</th>\n",
       "      <th>department_id</th>\n",
       "      <th>aisle</th>\n",
       "      <th>department</th>\n",
       "    </tr>\n",
       "  </thead>\n",
       "  <tbody>\n",
       "    <tr>\n",
       "      <th>0</th>\n",
       "      <td>1</td>\n",
       "      <td>Chocolate Sandwich Cookies</td>\n",
       "      <td>61</td>\n",
       "      <td>19</td>\n",
       "      <td>cookies cakes</td>\n",
       "      <td>snacks</td>\n",
       "    </tr>\n",
       "    <tr>\n",
       "      <th>1</th>\n",
       "      <td>2</td>\n",
       "      <td>All-Seasons Salt</td>\n",
       "      <td>104</td>\n",
       "      <td>13</td>\n",
       "      <td>spices seasonings</td>\n",
       "      <td>pantry</td>\n",
       "    </tr>\n",
       "    <tr>\n",
       "      <th>2</th>\n",
       "      <td>3</td>\n",
       "      <td>Robust Golden Unsweetened Oolong Tea</td>\n",
       "      <td>94</td>\n",
       "      <td>7</td>\n",
       "      <td>tea</td>\n",
       "      <td>beverages</td>\n",
       "    </tr>\n",
       "    <tr>\n",
       "      <th>3</th>\n",
       "      <td>4</td>\n",
       "      <td>Smart Ones Classic Favorites Mini Rigatoni Wit...</td>\n",
       "      <td>38</td>\n",
       "      <td>1</td>\n",
       "      <td>frozen meals</td>\n",
       "      <td>frozen</td>\n",
       "    </tr>\n",
       "    <tr>\n",
       "      <th>4</th>\n",
       "      <td>5</td>\n",
       "      <td>Green Chile Anytime Sauce</td>\n",
       "      <td>5</td>\n",
       "      <td>13</td>\n",
       "      <td>marinades meat preparation</td>\n",
       "      <td>pantry</td>\n",
       "    </tr>\n",
       "    <tr>\n",
       "      <th>...</th>\n",
       "      <td>...</td>\n",
       "      <td>...</td>\n",
       "      <td>...</td>\n",
       "      <td>...</td>\n",
       "      <td>...</td>\n",
       "      <td>...</td>\n",
       "    </tr>\n",
       "    <tr>\n",
       "      <th>49683</th>\n",
       "      <td>49684</td>\n",
       "      <td>Vodka, Triple Distilled, Twist of Vanilla</td>\n",
       "      <td>124</td>\n",
       "      <td>5</td>\n",
       "      <td>spirits</td>\n",
       "      <td>alcohol</td>\n",
       "    </tr>\n",
       "    <tr>\n",
       "      <th>49684</th>\n",
       "      <td>49685</td>\n",
       "      <td>En Croute Roast Hazelnut Cranberry</td>\n",
       "      <td>42</td>\n",
       "      <td>1</td>\n",
       "      <td>frozen vegan vegetarian</td>\n",
       "      <td>frozen</td>\n",
       "    </tr>\n",
       "    <tr>\n",
       "      <th>49685</th>\n",
       "      <td>49686</td>\n",
       "      <td>Artisan Baguette</td>\n",
       "      <td>112</td>\n",
       "      <td>3</td>\n",
       "      <td>bread</td>\n",
       "      <td>bakery</td>\n",
       "    </tr>\n",
       "    <tr>\n",
       "      <th>49686</th>\n",
       "      <td>49687</td>\n",
       "      <td>Smartblend Healthy Metabolism Dry Cat Food</td>\n",
       "      <td>41</td>\n",
       "      <td>8</td>\n",
       "      <td>cat food care</td>\n",
       "      <td>pets</td>\n",
       "    </tr>\n",
       "    <tr>\n",
       "      <th>49687</th>\n",
       "      <td>49688</td>\n",
       "      <td>Fresh Foaming Cleanser</td>\n",
       "      <td>73</td>\n",
       "      <td>11</td>\n",
       "      <td>facial care</td>\n",
       "      <td>personal care</td>\n",
       "    </tr>\n",
       "  </tbody>\n",
       "</table>\n",
       "<p>49688 rows × 6 columns</p>\n",
       "</div>"
      ],
      "text/plain": [
       "       product_id                                       product_name  \\\n",
       "0               1                         Chocolate Sandwich Cookies   \n",
       "1               2                                   All-Seasons Salt   \n",
       "2               3               Robust Golden Unsweetened Oolong Tea   \n",
       "3               4  Smart Ones Classic Favorites Mini Rigatoni Wit...   \n",
       "4               5                          Green Chile Anytime Sauce   \n",
       "...           ...                                                ...   \n",
       "49683       49684          Vodka, Triple Distilled, Twist of Vanilla   \n",
       "49684       49685                 En Croute Roast Hazelnut Cranberry   \n",
       "49685       49686                                   Artisan Baguette   \n",
       "49686       49687         Smartblend Healthy Metabolism Dry Cat Food   \n",
       "49687       49688                             Fresh Foaming Cleanser   \n",
       "\n",
       "       aisle_id  department_id                       aisle     department  \n",
       "0            61             19               cookies cakes         snacks  \n",
       "1           104             13           spices seasonings         pantry  \n",
       "2            94              7                         tea      beverages  \n",
       "3            38              1                frozen meals         frozen  \n",
       "4             5             13  marinades meat preparation         pantry  \n",
       "...         ...            ...                         ...            ...  \n",
       "49683       124              5                     spirits        alcohol  \n",
       "49684        42              1     frozen vegan vegetarian         frozen  \n",
       "49685       112              3                       bread         bakery  \n",
       "49686        41              8               cat food care           pets  \n",
       "49687        73             11                 facial care  personal care  \n",
       "\n",
       "[49688 rows x 6 columns]"
      ]
     },
     "execution_count": 32,
     "metadata": {},
     "output_type": "execute_result"
    }
   ],
   "source": [
    "join_2 = pd.merge(join_1, dept, how='left', on='department_id')\n",
    "join_2"
   ]
  },
  {
   "cell_type": "code",
   "execution_count": 33,
   "metadata": {
    "execution": {
     "iopub.status.busy": "2024-11-14T23:05:25.260939Z",
     "iopub.status.idle": "2024-11-14T23:05:25.261444Z",
     "shell.execute_reply": "2024-11-14T23:05:25.261202Z",
     "shell.execute_reply.started": "2024-11-14T23:05:25.261177Z"
    }
   },
   "outputs": [
    {
     "data": {
      "text/html": [
       "<div>\n",
       "<style scoped>\n",
       "    .dataframe tbody tr th:only-of-type {\n",
       "        vertical-align: middle;\n",
       "    }\n",
       "\n",
       "    .dataframe tbody tr th {\n",
       "        vertical-align: top;\n",
       "    }\n",
       "\n",
       "    .dataframe thead th {\n",
       "        text-align: right;\n",
       "    }\n",
       "</style>\n",
       "<table border=\"1\" class=\"dataframe\">\n",
       "  <thead>\n",
       "    <tr style=\"text-align: right;\">\n",
       "      <th></th>\n",
       "      <th>product_id</th>\n",
       "      <th>product_name</th>\n",
       "      <th>aisle_id</th>\n",
       "      <th>department_id</th>\n",
       "      <th>aisle</th>\n",
       "      <th>department</th>\n",
       "      <th>order_id</th>\n",
       "      <th>add_to_cart_order</th>\n",
       "      <th>reordered</th>\n",
       "    </tr>\n",
       "  </thead>\n",
       "  <tbody>\n",
       "    <tr>\n",
       "      <th>0</th>\n",
       "      <td>1</td>\n",
       "      <td>Chocolate Sandwich Cookies</td>\n",
       "      <td>61</td>\n",
       "      <td>19</td>\n",
       "      <td>cookies cakes</td>\n",
       "      <td>snacks</td>\n",
       "      <td>1107.0</td>\n",
       "      <td>7.0</td>\n",
       "      <td>0.0</td>\n",
       "    </tr>\n",
       "    <tr>\n",
       "      <th>1</th>\n",
       "      <td>1</td>\n",
       "      <td>Chocolate Sandwich Cookies</td>\n",
       "      <td>61</td>\n",
       "      <td>19</td>\n",
       "      <td>cookies cakes</td>\n",
       "      <td>snacks</td>\n",
       "      <td>5319.0</td>\n",
       "      <td>3.0</td>\n",
       "      <td>1.0</td>\n",
       "    </tr>\n",
       "    <tr>\n",
       "      <th>2</th>\n",
       "      <td>1</td>\n",
       "      <td>Chocolate Sandwich Cookies</td>\n",
       "      <td>61</td>\n",
       "      <td>19</td>\n",
       "      <td>cookies cakes</td>\n",
       "      <td>snacks</td>\n",
       "      <td>7540.0</td>\n",
       "      <td>4.0</td>\n",
       "      <td>1.0</td>\n",
       "    </tr>\n",
       "    <tr>\n",
       "      <th>3</th>\n",
       "      <td>1</td>\n",
       "      <td>Chocolate Sandwich Cookies</td>\n",
       "      <td>61</td>\n",
       "      <td>19</td>\n",
       "      <td>cookies cakes</td>\n",
       "      <td>snacks</td>\n",
       "      <td>9228.0</td>\n",
       "      <td>2.0</td>\n",
       "      <td>0.0</td>\n",
       "    </tr>\n",
       "    <tr>\n",
       "      <th>4</th>\n",
       "      <td>1</td>\n",
       "      <td>Chocolate Sandwich Cookies</td>\n",
       "      <td>61</td>\n",
       "      <td>19</td>\n",
       "      <td>cookies cakes</td>\n",
       "      <td>snacks</td>\n",
       "      <td>9273.0</td>\n",
       "      <td>30.0</td>\n",
       "      <td>0.0</td>\n",
       "    </tr>\n",
       "    <tr>\n",
       "      <th>...</th>\n",
       "      <td>...</td>\n",
       "      <td>...</td>\n",
       "      <td>...</td>\n",
       "      <td>...</td>\n",
       "      <td>...</td>\n",
       "      <td>...</td>\n",
       "      <td>...</td>\n",
       "      <td>...</td>\n",
       "      <td>...</td>\n",
       "    </tr>\n",
       "    <tr>\n",
       "      <th>32434495</th>\n",
       "      <td>49688</td>\n",
       "      <td>Fresh Foaming Cleanser</td>\n",
       "      <td>73</td>\n",
       "      <td>11</td>\n",
       "      <td>facial care</td>\n",
       "      <td>personal care</td>\n",
       "      <td>3111954.0</td>\n",
       "      <td>3.0</td>\n",
       "      <td>0.0</td>\n",
       "    </tr>\n",
       "    <tr>\n",
       "      <th>32434496</th>\n",
       "      <td>49688</td>\n",
       "      <td>Fresh Foaming Cleanser</td>\n",
       "      <td>73</td>\n",
       "      <td>11</td>\n",
       "      <td>facial care</td>\n",
       "      <td>personal care</td>\n",
       "      <td>3122003.0</td>\n",
       "      <td>20.0</td>\n",
       "      <td>0.0</td>\n",
       "    </tr>\n",
       "    <tr>\n",
       "      <th>32434497</th>\n",
       "      <td>49688</td>\n",
       "      <td>Fresh Foaming Cleanser</td>\n",
       "      <td>73</td>\n",
       "      <td>11</td>\n",
       "      <td>facial care</td>\n",
       "      <td>personal care</td>\n",
       "      <td>3166828.0</td>\n",
       "      <td>5.0</td>\n",
       "      <td>1.0</td>\n",
       "    </tr>\n",
       "    <tr>\n",
       "      <th>32434498</th>\n",
       "      <td>49688</td>\n",
       "      <td>Fresh Foaming Cleanser</td>\n",
       "      <td>73</td>\n",
       "      <td>11</td>\n",
       "      <td>facial care</td>\n",
       "      <td>personal care</td>\n",
       "      <td>3290206.0</td>\n",
       "      <td>10.0</td>\n",
       "      <td>0.0</td>\n",
       "    </tr>\n",
       "    <tr>\n",
       "      <th>32434499</th>\n",
       "      <td>49688</td>\n",
       "      <td>Fresh Foaming Cleanser</td>\n",
       "      <td>73</td>\n",
       "      <td>11</td>\n",
       "      <td>facial care</td>\n",
       "      <td>personal care</td>\n",
       "      <td>3401313.0</td>\n",
       "      <td>5.0</td>\n",
       "      <td>0.0</td>\n",
       "    </tr>\n",
       "  </tbody>\n",
       "</table>\n",
       "<p>32434500 rows × 9 columns</p>\n",
       "</div>"
      ],
      "text/plain": [
       "          product_id                product_name  aisle_id  department_id  \\\n",
       "0                  1  Chocolate Sandwich Cookies        61             19   \n",
       "1                  1  Chocolate Sandwich Cookies        61             19   \n",
       "2                  1  Chocolate Sandwich Cookies        61             19   \n",
       "3                  1  Chocolate Sandwich Cookies        61             19   \n",
       "4                  1  Chocolate Sandwich Cookies        61             19   \n",
       "...              ...                         ...       ...            ...   \n",
       "32434495       49688      Fresh Foaming Cleanser        73             11   \n",
       "32434496       49688      Fresh Foaming Cleanser        73             11   \n",
       "32434497       49688      Fresh Foaming Cleanser        73             11   \n",
       "32434498       49688      Fresh Foaming Cleanser        73             11   \n",
       "32434499       49688      Fresh Foaming Cleanser        73             11   \n",
       "\n",
       "                  aisle     department   order_id  add_to_cart_order  \\\n",
       "0         cookies cakes         snacks     1107.0                7.0   \n",
       "1         cookies cakes         snacks     5319.0                3.0   \n",
       "2         cookies cakes         snacks     7540.0                4.0   \n",
       "3         cookies cakes         snacks     9228.0                2.0   \n",
       "4         cookies cakes         snacks     9273.0               30.0   \n",
       "...                 ...            ...        ...                ...   \n",
       "32434495    facial care  personal care  3111954.0                3.0   \n",
       "32434496    facial care  personal care  3122003.0               20.0   \n",
       "32434497    facial care  personal care  3166828.0                5.0   \n",
       "32434498    facial care  personal care  3290206.0               10.0   \n",
       "32434499    facial care  personal care  3401313.0                5.0   \n",
       "\n",
       "          reordered  \n",
       "0               0.0  \n",
       "1               1.0  \n",
       "2               1.0  \n",
       "3               0.0  \n",
       "4               0.0  \n",
       "...             ...  \n",
       "32434495        0.0  \n",
       "32434496        0.0  \n",
       "32434497        1.0  \n",
       "32434498        0.0  \n",
       "32434499        0.0  \n",
       "\n",
       "[32434500 rows x 9 columns]"
      ]
     },
     "execution_count": 33,
     "metadata": {},
     "output_type": "execute_result"
    }
   ],
   "source": [
    "join_3 = pd.merge(join_2, order_prod_prior, how='left', on='product_id')\n",
    "join_3"
   ]
  },
  {
   "cell_type": "code",
   "execution_count": null,
   "metadata": {
    "execution": {
     "iopub.status.busy": "2024-11-14T23:05:25.263010Z",
     "iopub.status.idle": "2024-11-14T23:05:25.263524Z",
     "shell.execute_reply": "2024-11-14T23:05:25.263277Z",
     "shell.execute_reply.started": "2024-11-14T23:05:25.263249Z"
    }
   },
   "outputs": [],
   "source": [
    "final_join = pd.merge(join_3, orders, how='left', on='order_id')\n",
    "final_join.head()"
   ]
  },
  {
   "cell_type": "markdown",
   "metadata": {},
   "source": [
    "# Analysis"
   ]
  },
  {
   "cell_type": "markdown",
   "metadata": {},
   "source": [
    "Q1. Mention the 3 most popular aisles among customers?"
   ]
  },
  {
   "cell_type": "code",
   "execution_count": 35,
   "metadata": {
    "execution": {
     "iopub.status.busy": "2024-11-14T23:05:25.264931Z",
     "iopub.status.idle": "2024-11-14T23:05:25.265429Z",
     "shell.execute_reply": "2024-11-14T23:05:25.265196Z",
     "shell.execute_reply.started": "2024-11-14T23:05:25.265170Z"
    }
   },
   "outputs": [
    {
     "data": {
      "text/html": [
       "<div>\n",
       "<style scoped>\n",
       "    .dataframe tbody tr th:only-of-type {\n",
       "        vertical-align: middle;\n",
       "    }\n",
       "\n",
       "    .dataframe tbody tr th {\n",
       "        vertical-align: top;\n",
       "    }\n",
       "\n",
       "    .dataframe thead th {\n",
       "        text-align: right;\n",
       "    }\n",
       "</style>\n",
       "<table border=\"1\" class=\"dataframe\">\n",
       "  <thead>\n",
       "    <tr style=\"text-align: right;\">\n",
       "      <th></th>\n",
       "      <th>count</th>\n",
       "      <th>sum</th>\n",
       "    </tr>\n",
       "    <tr>\n",
       "      <th>aisle</th>\n",
       "      <th></th>\n",
       "      <th></th>\n",
       "    </tr>\n",
       "  </thead>\n",
       "  <tbody>\n",
       "    <tr>\n",
       "      <th>air fresheners candles</th>\n",
       "      <td>19851</td>\n",
       "      <td>6135.0</td>\n",
       "    </tr>\n",
       "    <tr>\n",
       "      <th>asian foods</th>\n",
       "      <td>166607</td>\n",
       "      <td>58501.0</td>\n",
       "    </tr>\n",
       "    <tr>\n",
       "      <th>baby accessories</th>\n",
       "      <td>8160</td>\n",
       "      <td>4496.0</td>\n",
       "    </tr>\n",
       "    <tr>\n",
       "      <th>baby bath body care</th>\n",
       "      <td>8581</td>\n",
       "      <td>2538.0</td>\n",
       "    </tr>\n",
       "    <tr>\n",
       "      <th>baby food formula</th>\n",
       "      <td>382456</td>\n",
       "      <td>225748.0</td>\n",
       "    </tr>\n",
       "    <tr>\n",
       "      <th>...</th>\n",
       "      <td>...</td>\n",
       "      <td>...</td>\n",
       "    </tr>\n",
       "    <tr>\n",
       "      <th>trash bags liners</th>\n",
       "      <td>32081</td>\n",
       "      <td>10771.0</td>\n",
       "    </tr>\n",
       "    <tr>\n",
       "      <th>vitamins supplements</th>\n",
       "      <td>45059</td>\n",
       "      <td>14036.0</td>\n",
       "    </tr>\n",
       "    <tr>\n",
       "      <th>water seltzer sparkling water</th>\n",
       "      <td>841533</td>\n",
       "      <td>613977.0</td>\n",
       "    </tr>\n",
       "    <tr>\n",
       "      <th>white wines</th>\n",
       "      <td>30558</td>\n",
       "      <td>19254.0</td>\n",
       "    </tr>\n",
       "    <tr>\n",
       "      <th>yogurt</th>\n",
       "      <td>1452343</td>\n",
       "      <td>997018.0</td>\n",
       "    </tr>\n",
       "  </tbody>\n",
       "</table>\n",
       "<p>134 rows × 2 columns</p>\n",
       "</div>"
      ],
      "text/plain": [
       "                                 count       sum\n",
       "aisle                                           \n",
       "air fresheners candles           19851    6135.0\n",
       "asian foods                     166607   58501.0\n",
       "baby accessories                  8160    4496.0\n",
       "baby bath body care               8581    2538.0\n",
       "baby food formula               382456  225748.0\n",
       "...                                ...       ...\n",
       "trash bags liners                32081   10771.0\n",
       "vitamins supplements             45059   14036.0\n",
       "water seltzer sparkling water   841533  613977.0\n",
       "white wines                      30558   19254.0\n",
       "yogurt                         1452343  997018.0\n",
       "\n",
       "[134 rows x 2 columns]"
      ]
     },
     "execution_count": 35,
     "metadata": {},
     "output_type": "execute_result"
    }
   ],
   "source": [
    "popular_aisle_1 = final_join.groupby('aisle')['reordered'].aggregate(['count','sum'])\n",
    "popular_aisle_1"
   ]
  },
  {
   "cell_type": "code",
   "execution_count": 36,
   "metadata": {
    "execution": {
     "iopub.status.busy": "2024-11-14T23:05:25.267046Z",
     "iopub.status.idle": "2024-11-14T23:05:25.267556Z",
     "shell.execute_reply": "2024-11-14T23:05:25.267317Z",
     "shell.execute_reply.started": "2024-11-14T23:05:25.267290Z"
    }
   },
   "outputs": [
    {
     "data": {
      "text/html": [
       "<div>\n",
       "<style scoped>\n",
       "    .dataframe tbody tr th:only-of-type {\n",
       "        vertical-align: middle;\n",
       "    }\n",
       "\n",
       "    .dataframe tbody tr th {\n",
       "        vertical-align: top;\n",
       "    }\n",
       "\n",
       "    .dataframe thead th {\n",
       "        text-align: right;\n",
       "    }\n",
       "</style>\n",
       "<table border=\"1\" class=\"dataframe\">\n",
       "  <thead>\n",
       "    <tr style=\"text-align: right;\">\n",
       "      <th></th>\n",
       "      <th>Total Orders</th>\n",
       "      <th>Re-Ordered Count</th>\n",
       "    </tr>\n",
       "    <tr>\n",
       "      <th>aisle</th>\n",
       "      <th></th>\n",
       "      <th></th>\n",
       "    </tr>\n",
       "  </thead>\n",
       "  <tbody>\n",
       "    <tr>\n",
       "      <th>air fresheners candles</th>\n",
       "      <td>19851</td>\n",
       "      <td>6135.0</td>\n",
       "    </tr>\n",
       "    <tr>\n",
       "      <th>asian foods</th>\n",
       "      <td>166607</td>\n",
       "      <td>58501.0</td>\n",
       "    </tr>\n",
       "    <tr>\n",
       "      <th>baby accessories</th>\n",
       "      <td>8160</td>\n",
       "      <td>4496.0</td>\n",
       "    </tr>\n",
       "    <tr>\n",
       "      <th>baby bath body care</th>\n",
       "      <td>8581</td>\n",
       "      <td>2538.0</td>\n",
       "    </tr>\n",
       "    <tr>\n",
       "      <th>baby food formula</th>\n",
       "      <td>382456</td>\n",
       "      <td>225748.0</td>\n",
       "    </tr>\n",
       "    <tr>\n",
       "      <th>...</th>\n",
       "      <td>...</td>\n",
       "      <td>...</td>\n",
       "    </tr>\n",
       "    <tr>\n",
       "      <th>trash bags liners</th>\n",
       "      <td>32081</td>\n",
       "      <td>10771.0</td>\n",
       "    </tr>\n",
       "    <tr>\n",
       "      <th>vitamins supplements</th>\n",
       "      <td>45059</td>\n",
       "      <td>14036.0</td>\n",
       "    </tr>\n",
       "    <tr>\n",
       "      <th>water seltzer sparkling water</th>\n",
       "      <td>841533</td>\n",
       "      <td>613977.0</td>\n",
       "    </tr>\n",
       "    <tr>\n",
       "      <th>white wines</th>\n",
       "      <td>30558</td>\n",
       "      <td>19254.0</td>\n",
       "    </tr>\n",
       "    <tr>\n",
       "      <th>yogurt</th>\n",
       "      <td>1452343</td>\n",
       "      <td>997018.0</td>\n",
       "    </tr>\n",
       "  </tbody>\n",
       "</table>\n",
       "<p>134 rows × 2 columns</p>\n",
       "</div>"
      ],
      "text/plain": [
       "                               Total Orders  Re-Ordered Count\n",
       "aisle                                                        \n",
       "air fresheners candles                19851            6135.0\n",
       "asian foods                          166607           58501.0\n",
       "baby accessories                       8160            4496.0\n",
       "baby bath body care                    8581            2538.0\n",
       "baby food formula                    382456          225748.0\n",
       "...                                     ...               ...\n",
       "trash bags liners                     32081           10771.0\n",
       "vitamins supplements                  45059           14036.0\n",
       "water seltzer sparkling water        841533          613977.0\n",
       "white wines                           30558           19254.0\n",
       "yogurt                              1452343          997018.0\n",
       "\n",
       "[134 rows x 2 columns]"
      ]
     },
     "execution_count": 36,
     "metadata": {},
     "output_type": "execute_result"
    }
   ],
   "source": [
    "popular_aisle_2 = popular_aisle_1.rename(columns = {'count':'Total Orders', 'sum':'Re-Ordered Count'})\n",
    "popular_aisle_2"
   ]
  },
  {
   "cell_type": "code",
   "execution_count": 37,
   "metadata": {
    "execution": {
     "iopub.status.busy": "2024-11-14T23:05:25.269149Z",
     "iopub.status.idle": "2024-11-14T23:05:25.269617Z",
     "shell.execute_reply": "2024-11-14T23:05:25.269399Z",
     "shell.execute_reply.started": "2024-11-14T23:05:25.269374Z"
    }
   },
   "outputs": [
    {
     "data": {
      "text/html": [
       "<div>\n",
       "<style scoped>\n",
       "    .dataframe tbody tr th:only-of-type {\n",
       "        vertical-align: middle;\n",
       "    }\n",
       "\n",
       "    .dataframe tbody tr th {\n",
       "        vertical-align: top;\n",
       "    }\n",
       "\n",
       "    .dataframe thead th {\n",
       "        text-align: right;\n",
       "    }\n",
       "</style>\n",
       "<table border=\"1\" class=\"dataframe\">\n",
       "  <thead>\n",
       "    <tr style=\"text-align: right;\">\n",
       "      <th></th>\n",
       "      <th>Total Orders</th>\n",
       "      <th>Re-Ordered Count</th>\n",
       "    </tr>\n",
       "    <tr>\n",
       "      <th>aisle</th>\n",
       "      <th></th>\n",
       "      <th></th>\n",
       "    </tr>\n",
       "  </thead>\n",
       "  <tbody>\n",
       "    <tr>\n",
       "      <th>fresh fruits</th>\n",
       "      <td>3642188</td>\n",
       "      <td>2615469.0</td>\n",
       "    </tr>\n",
       "    <tr>\n",
       "      <th>fresh vegetables</th>\n",
       "      <td>3418021</td>\n",
       "      <td>2032172.0</td>\n",
       "    </tr>\n",
       "    <tr>\n",
       "      <th>packaged vegetables fruits</th>\n",
       "      <td>1765313</td>\n",
       "      <td>1127177.0</td>\n",
       "    </tr>\n",
       "    <tr>\n",
       "      <th>yogurt</th>\n",
       "      <td>1452343</td>\n",
       "      <td>997018.0</td>\n",
       "    </tr>\n",
       "    <tr>\n",
       "      <th>milk</th>\n",
       "      <td>891015</td>\n",
       "      <td>696264.0</td>\n",
       "    </tr>\n",
       "    <tr>\n",
       "      <th>...</th>\n",
       "      <td>...</td>\n",
       "      <td>...</td>\n",
       "    </tr>\n",
       "    <tr>\n",
       "      <th>frozen juice</th>\n",
       "      <td>4853</td>\n",
       "      <td>2188.0</td>\n",
       "    </tr>\n",
       "    <tr>\n",
       "      <th>first aid</th>\n",
       "      <td>10872</td>\n",
       "      <td>2118.0</td>\n",
       "    </tr>\n",
       "    <tr>\n",
       "      <th>eye ear care</th>\n",
       "      <td>8974</td>\n",
       "      <td>1950.0</td>\n",
       "    </tr>\n",
       "    <tr>\n",
       "      <th>kitchen supplies</th>\n",
       "      <td>9172</td>\n",
       "      <td>1792.0</td>\n",
       "    </tr>\n",
       "    <tr>\n",
       "      <th>beauty</th>\n",
       "      <td>6168</td>\n",
       "      <td>1308.0</td>\n",
       "    </tr>\n",
       "  </tbody>\n",
       "</table>\n",
       "<p>134 rows × 2 columns</p>\n",
       "</div>"
      ],
      "text/plain": [
       "                            Total Orders  Re-Ordered Count\n",
       "aisle                                                     \n",
       "fresh fruits                     3642188         2615469.0\n",
       "fresh vegetables                 3418021         2032172.0\n",
       "packaged vegetables fruits       1765313         1127177.0\n",
       "yogurt                           1452343          997018.0\n",
       "milk                              891015          696264.0\n",
       "...                                  ...               ...\n",
       "frozen juice                        4853            2188.0\n",
       "first aid                          10872            2118.0\n",
       "eye ear care                        8974            1950.0\n",
       "kitchen supplies                    9172            1792.0\n",
       "beauty                              6168            1308.0\n",
       "\n",
       "[134 rows x 2 columns]"
      ]
     },
     "execution_count": 37,
     "metadata": {},
     "output_type": "execute_result"
    }
   ],
   "source": [
    "popular_aisle_3 = popular_aisle_2.sort_values('Re-Ordered Count', ascending = False)\n",
    "popular_aisle_3"
   ]
  },
  {
   "cell_type": "code",
   "execution_count": 38,
   "metadata": {
    "execution": {
     "iopub.status.busy": "2024-11-14T23:05:25.271087Z",
     "iopub.status.idle": "2024-11-14T23:05:25.271576Z",
     "shell.execute_reply": "2024-11-14T23:05:25.271340Z",
     "shell.execute_reply.started": "2024-11-14T23:05:25.271315Z"
    }
   },
   "outputs": [
    {
     "data": {
      "text/html": [
       "<div>\n",
       "<style scoped>\n",
       "    .dataframe tbody tr th:only-of-type {\n",
       "        vertical-align: middle;\n",
       "    }\n",
       "\n",
       "    .dataframe tbody tr th {\n",
       "        vertical-align: top;\n",
       "    }\n",
       "\n",
       "    .dataframe thead th {\n",
       "        text-align: right;\n",
       "    }\n",
       "</style>\n",
       "<table border=\"1\" class=\"dataframe\">\n",
       "  <thead>\n",
       "    <tr style=\"text-align: right;\">\n",
       "      <th></th>\n",
       "      <th>Total Orders</th>\n",
       "      <th>Re-Ordered Count</th>\n",
       "    </tr>\n",
       "    <tr>\n",
       "      <th>aisle</th>\n",
       "      <th></th>\n",
       "      <th></th>\n",
       "    </tr>\n",
       "  </thead>\n",
       "  <tbody>\n",
       "    <tr>\n",
       "      <th>fresh fruits</th>\n",
       "      <td>3642188</td>\n",
       "      <td>2615469.0</td>\n",
       "    </tr>\n",
       "    <tr>\n",
       "      <th>fresh vegetables</th>\n",
       "      <td>3418021</td>\n",
       "      <td>2032172.0</td>\n",
       "    </tr>\n",
       "    <tr>\n",
       "      <th>packaged vegetables fruits</th>\n",
       "      <td>1765313</td>\n",
       "      <td>1127177.0</td>\n",
       "    </tr>\n",
       "  </tbody>\n",
       "</table>\n",
       "</div>"
      ],
      "text/plain": [
       "                            Total Orders  Re-Ordered Count\n",
       "aisle                                                     \n",
       "fresh fruits                     3642188         2615469.0\n",
       "fresh vegetables                 3418021         2032172.0\n",
       "packaged vegetables fruits       1765313         1127177.0"
      ]
     },
     "execution_count": 38,
     "metadata": {},
     "output_type": "execute_result"
    }
   ],
   "source": [
    "popular_aisle_3[0:3]"
   ]
  },
  {
   "cell_type": "markdown",
   "metadata": {},
   "source": [
    "Top 3 aisles where customers reordered the most were Fresh Fruits, Fresh Vegetables and Packaged Vegetables Fruits."
   ]
  },
  {
   "cell_type": "markdown",
   "metadata": {},
   "source": [
    "Q2. Which departments have the highest rate of returning customers?"
   ]
  },
  {
   "cell_type": "code",
   "execution_count": 39,
   "metadata": {
    "execution": {
     "iopub.status.busy": "2024-11-14T23:05:25.272805Z",
     "iopub.status.idle": "2024-11-14T23:05:25.273329Z",
     "shell.execute_reply": "2024-11-14T23:05:25.273089Z",
     "shell.execute_reply.started": "2024-11-14T23:05:25.273060Z"
    }
   },
   "outputs": [
    {
     "data": {
      "text/html": [
       "<div>\n",
       "<style scoped>\n",
       "    .dataframe tbody tr th:only-of-type {\n",
       "        vertical-align: middle;\n",
       "    }\n",
       "\n",
       "    .dataframe tbody tr th {\n",
       "        vertical-align: top;\n",
       "    }\n",
       "\n",
       "    .dataframe thead th {\n",
       "        text-align: right;\n",
       "    }\n",
       "</style>\n",
       "<table border=\"1\" class=\"dataframe\">\n",
       "  <thead>\n",
       "    <tr style=\"text-align: right;\">\n",
       "      <th></th>\n",
       "      <th>count</th>\n",
       "      <th>sum</th>\n",
       "    </tr>\n",
       "    <tr>\n",
       "      <th>department</th>\n",
       "      <th></th>\n",
       "      <th></th>\n",
       "    </tr>\n",
       "  </thead>\n",
       "  <tbody>\n",
       "    <tr>\n",
       "      <th>alcohol</th>\n",
       "      <td>153696</td>\n",
       "      <td>87595.0</td>\n",
       "    </tr>\n",
       "    <tr>\n",
       "      <th>babies</th>\n",
       "      <td>423802</td>\n",
       "      <td>245369.0</td>\n",
       "    </tr>\n",
       "    <tr>\n",
       "      <th>bakery</th>\n",
       "      <td>1176787</td>\n",
       "      <td>739188.0</td>\n",
       "    </tr>\n",
       "    <tr>\n",
       "      <th>beverages</th>\n",
       "      <td>2690129</td>\n",
       "      <td>1757892.0</td>\n",
       "    </tr>\n",
       "    <tr>\n",
       "      <th>breakfast</th>\n",
       "      <td>709569</td>\n",
       "      <td>398013.0</td>\n",
       "    </tr>\n",
       "    <tr>\n",
       "      <th>bulk</th>\n",
       "      <td>34573</td>\n",
       "      <td>19950.0</td>\n",
       "    </tr>\n",
       "    <tr>\n",
       "      <th>canned goods</th>\n",
       "      <td>1068058</td>\n",
       "      <td>488535.0</td>\n",
       "    </tr>\n",
       "    <tr>\n",
       "      <th>dairy eggs</th>\n",
       "      <td>5414016</td>\n",
       "      <td>3627221.0</td>\n",
       "    </tr>\n",
       "    <tr>\n",
       "      <th>deli</th>\n",
       "      <td>1051249</td>\n",
       "      <td>638864.0</td>\n",
       "    </tr>\n",
       "    <tr>\n",
       "      <th>dry goods pasta</th>\n",
       "      <td>866627</td>\n",
       "      <td>399581.0</td>\n",
       "    </tr>\n",
       "    <tr>\n",
       "      <th>frozen</th>\n",
       "      <td>2236432</td>\n",
       "      <td>1211890.0</td>\n",
       "    </tr>\n",
       "    <tr>\n",
       "      <th>household</th>\n",
       "      <td>738666</td>\n",
       "      <td>297075.0</td>\n",
       "    </tr>\n",
       "    <tr>\n",
       "      <th>international</th>\n",
       "      <td>269253</td>\n",
       "      <td>99416.0</td>\n",
       "    </tr>\n",
       "    <tr>\n",
       "      <th>meat seafood</th>\n",
       "      <td>708931</td>\n",
       "      <td>402442.0</td>\n",
       "    </tr>\n",
       "    <tr>\n",
       "      <th>missing</th>\n",
       "      <td>69145</td>\n",
       "      <td>27371.0</td>\n",
       "    </tr>\n",
       "    <tr>\n",
       "      <th>other</th>\n",
       "      <td>36291</td>\n",
       "      <td>14806.0</td>\n",
       "    </tr>\n",
       "    <tr>\n",
       "      <th>pantry</th>\n",
       "      <td>1875577</td>\n",
       "      <td>650301.0</td>\n",
       "    </tr>\n",
       "    <tr>\n",
       "      <th>personal care</th>\n",
       "      <td>447123</td>\n",
       "      <td>143584.0</td>\n",
       "    </tr>\n",
       "    <tr>\n",
       "      <th>pets</th>\n",
       "      <td>97724</td>\n",
       "      <td>58760.0</td>\n",
       "    </tr>\n",
       "    <tr>\n",
       "      <th>produce</th>\n",
       "      <td>9479291</td>\n",
       "      <td>6160710.0</td>\n",
       "    </tr>\n",
       "    <tr>\n",
       "      <th>snacks</th>\n",
       "      <td>2887550</td>\n",
       "      <td>1657973.0</td>\n",
       "    </tr>\n",
       "  </tbody>\n",
       "</table>\n",
       "</div>"
      ],
      "text/plain": [
       "                   count        sum\n",
       "department                         \n",
       "alcohol           153696    87595.0\n",
       "babies            423802   245369.0\n",
       "bakery           1176787   739188.0\n",
       "beverages        2690129  1757892.0\n",
       "breakfast         709569   398013.0\n",
       "bulk               34573    19950.0\n",
       "canned goods     1068058   488535.0\n",
       "dairy eggs       5414016  3627221.0\n",
       "deli             1051249   638864.0\n",
       "dry goods pasta   866627   399581.0\n",
       "frozen           2236432  1211890.0\n",
       "household         738666   297075.0\n",
       "international     269253    99416.0\n",
       "meat seafood      708931   402442.0\n",
       "missing            69145    27371.0\n",
       "other              36291    14806.0\n",
       "pantry           1875577   650301.0\n",
       "personal care     447123   143584.0\n",
       "pets               97724    58760.0\n",
       "produce          9479291  6160710.0\n",
       "snacks           2887550  1657973.0"
      ]
     },
     "execution_count": 39,
     "metadata": {},
     "output_type": "execute_result"
    }
   ],
   "source": [
    "popular_dept_1 = final_join.groupby('department')['reordered'].aggregate(['count','sum'])\n",
    "popular_dept_1"
   ]
  },
  {
   "cell_type": "code",
   "execution_count": 40,
   "metadata": {
    "execution": {
     "iopub.status.busy": "2024-11-14T23:05:25.274572Z",
     "iopub.status.idle": "2024-11-14T23:05:25.275124Z",
     "shell.execute_reply": "2024-11-14T23:05:25.274865Z",
     "shell.execute_reply.started": "2024-11-14T23:05:25.274837Z"
    }
   },
   "outputs": [
    {
     "data": {
      "text/html": [
       "<div>\n",
       "<style scoped>\n",
       "    .dataframe tbody tr th:only-of-type {\n",
       "        vertical-align: middle;\n",
       "    }\n",
       "\n",
       "    .dataframe tbody tr th {\n",
       "        vertical-align: top;\n",
       "    }\n",
       "\n",
       "    .dataframe thead th {\n",
       "        text-align: right;\n",
       "    }\n",
       "</style>\n",
       "<table border=\"1\" class=\"dataframe\">\n",
       "  <thead>\n",
       "    <tr style=\"text-align: right;\">\n",
       "      <th></th>\n",
       "      <th>Total Orders</th>\n",
       "      <th>Re-Ordered Count</th>\n",
       "    </tr>\n",
       "    <tr>\n",
       "      <th>department</th>\n",
       "      <th></th>\n",
       "      <th></th>\n",
       "    </tr>\n",
       "  </thead>\n",
       "  <tbody>\n",
       "    <tr>\n",
       "      <th>alcohol</th>\n",
       "      <td>153696</td>\n",
       "      <td>87595.0</td>\n",
       "    </tr>\n",
       "    <tr>\n",
       "      <th>babies</th>\n",
       "      <td>423802</td>\n",
       "      <td>245369.0</td>\n",
       "    </tr>\n",
       "    <tr>\n",
       "      <th>bakery</th>\n",
       "      <td>1176787</td>\n",
       "      <td>739188.0</td>\n",
       "    </tr>\n",
       "    <tr>\n",
       "      <th>beverages</th>\n",
       "      <td>2690129</td>\n",
       "      <td>1757892.0</td>\n",
       "    </tr>\n",
       "    <tr>\n",
       "      <th>breakfast</th>\n",
       "      <td>709569</td>\n",
       "      <td>398013.0</td>\n",
       "    </tr>\n",
       "    <tr>\n",
       "      <th>bulk</th>\n",
       "      <td>34573</td>\n",
       "      <td>19950.0</td>\n",
       "    </tr>\n",
       "    <tr>\n",
       "      <th>canned goods</th>\n",
       "      <td>1068058</td>\n",
       "      <td>488535.0</td>\n",
       "    </tr>\n",
       "    <tr>\n",
       "      <th>dairy eggs</th>\n",
       "      <td>5414016</td>\n",
       "      <td>3627221.0</td>\n",
       "    </tr>\n",
       "    <tr>\n",
       "      <th>deli</th>\n",
       "      <td>1051249</td>\n",
       "      <td>638864.0</td>\n",
       "    </tr>\n",
       "    <tr>\n",
       "      <th>dry goods pasta</th>\n",
       "      <td>866627</td>\n",
       "      <td>399581.0</td>\n",
       "    </tr>\n",
       "    <tr>\n",
       "      <th>frozen</th>\n",
       "      <td>2236432</td>\n",
       "      <td>1211890.0</td>\n",
       "    </tr>\n",
       "    <tr>\n",
       "      <th>household</th>\n",
       "      <td>738666</td>\n",
       "      <td>297075.0</td>\n",
       "    </tr>\n",
       "    <tr>\n",
       "      <th>international</th>\n",
       "      <td>269253</td>\n",
       "      <td>99416.0</td>\n",
       "    </tr>\n",
       "    <tr>\n",
       "      <th>meat seafood</th>\n",
       "      <td>708931</td>\n",
       "      <td>402442.0</td>\n",
       "    </tr>\n",
       "    <tr>\n",
       "      <th>missing</th>\n",
       "      <td>69145</td>\n",
       "      <td>27371.0</td>\n",
       "    </tr>\n",
       "    <tr>\n",
       "      <th>other</th>\n",
       "      <td>36291</td>\n",
       "      <td>14806.0</td>\n",
       "    </tr>\n",
       "    <tr>\n",
       "      <th>pantry</th>\n",
       "      <td>1875577</td>\n",
       "      <td>650301.0</td>\n",
       "    </tr>\n",
       "    <tr>\n",
       "      <th>personal care</th>\n",
       "      <td>447123</td>\n",
       "      <td>143584.0</td>\n",
       "    </tr>\n",
       "    <tr>\n",
       "      <th>pets</th>\n",
       "      <td>97724</td>\n",
       "      <td>58760.0</td>\n",
       "    </tr>\n",
       "    <tr>\n",
       "      <th>produce</th>\n",
       "      <td>9479291</td>\n",
       "      <td>6160710.0</td>\n",
       "    </tr>\n",
       "    <tr>\n",
       "      <th>snacks</th>\n",
       "      <td>2887550</td>\n",
       "      <td>1657973.0</td>\n",
       "    </tr>\n",
       "  </tbody>\n",
       "</table>\n",
       "</div>"
      ],
      "text/plain": [
       "                 Total Orders  Re-Ordered Count\n",
       "department                                     \n",
       "alcohol                153696           87595.0\n",
       "babies                 423802          245369.0\n",
       "bakery                1176787          739188.0\n",
       "beverages             2690129         1757892.0\n",
       "breakfast              709569          398013.0\n",
       "bulk                    34573           19950.0\n",
       "canned goods          1068058          488535.0\n",
       "dairy eggs            5414016         3627221.0\n",
       "deli                  1051249          638864.0\n",
       "dry goods pasta        866627          399581.0\n",
       "frozen                2236432         1211890.0\n",
       "household              738666          297075.0\n",
       "international          269253           99416.0\n",
       "meat seafood           708931          402442.0\n",
       "missing                 69145           27371.0\n",
       "other                   36291           14806.0\n",
       "pantry                1875577          650301.0\n",
       "personal care          447123          143584.0\n",
       "pets                    97724           58760.0\n",
       "produce               9479291         6160710.0\n",
       "snacks                2887550         1657973.0"
      ]
     },
     "execution_count": 40,
     "metadata": {},
     "output_type": "execute_result"
    }
   ],
   "source": [
    "popular_dept_2 = popular_dept_1.rename(columns = {'count':'Total Orders', 'sum':'Re-Ordered Count'})\n",
    "popular_dept_2"
   ]
  },
  {
   "cell_type": "code",
   "execution_count": 41,
   "metadata": {
    "execution": {
     "iopub.status.busy": "2024-11-14T23:05:25.276530Z",
     "iopub.status.idle": "2024-11-14T23:05:25.277077Z",
     "shell.execute_reply": "2024-11-14T23:05:25.276819Z",
     "shell.execute_reply.started": "2024-11-14T23:05:25.276791Z"
    }
   },
   "outputs": [
    {
     "data": {
      "text/html": [
       "<div>\n",
       "<style scoped>\n",
       "    .dataframe tbody tr th:only-of-type {\n",
       "        vertical-align: middle;\n",
       "    }\n",
       "\n",
       "    .dataframe tbody tr th {\n",
       "        vertical-align: top;\n",
       "    }\n",
       "\n",
       "    .dataframe thead th {\n",
       "        text-align: right;\n",
       "    }\n",
       "</style>\n",
       "<table border=\"1\" class=\"dataframe\">\n",
       "  <thead>\n",
       "    <tr style=\"text-align: right;\">\n",
       "      <th></th>\n",
       "      <th>Total Orders</th>\n",
       "      <th>Re-Ordered Count</th>\n",
       "    </tr>\n",
       "    <tr>\n",
       "      <th>department</th>\n",
       "      <th></th>\n",
       "      <th></th>\n",
       "    </tr>\n",
       "  </thead>\n",
       "  <tbody>\n",
       "    <tr>\n",
       "      <th>produce</th>\n",
       "      <td>9479291</td>\n",
       "      <td>6160710.0</td>\n",
       "    </tr>\n",
       "    <tr>\n",
       "      <th>dairy eggs</th>\n",
       "      <td>5414016</td>\n",
       "      <td>3627221.0</td>\n",
       "    </tr>\n",
       "    <tr>\n",
       "      <th>beverages</th>\n",
       "      <td>2690129</td>\n",
       "      <td>1757892.0</td>\n",
       "    </tr>\n",
       "    <tr>\n",
       "      <th>snacks</th>\n",
       "      <td>2887550</td>\n",
       "      <td>1657973.0</td>\n",
       "    </tr>\n",
       "    <tr>\n",
       "      <th>frozen</th>\n",
       "      <td>2236432</td>\n",
       "      <td>1211890.0</td>\n",
       "    </tr>\n",
       "    <tr>\n",
       "      <th>bakery</th>\n",
       "      <td>1176787</td>\n",
       "      <td>739188.0</td>\n",
       "    </tr>\n",
       "    <tr>\n",
       "      <th>pantry</th>\n",
       "      <td>1875577</td>\n",
       "      <td>650301.0</td>\n",
       "    </tr>\n",
       "    <tr>\n",
       "      <th>deli</th>\n",
       "      <td>1051249</td>\n",
       "      <td>638864.0</td>\n",
       "    </tr>\n",
       "    <tr>\n",
       "      <th>canned goods</th>\n",
       "      <td>1068058</td>\n",
       "      <td>488535.0</td>\n",
       "    </tr>\n",
       "    <tr>\n",
       "      <th>meat seafood</th>\n",
       "      <td>708931</td>\n",
       "      <td>402442.0</td>\n",
       "    </tr>\n",
       "    <tr>\n",
       "      <th>dry goods pasta</th>\n",
       "      <td>866627</td>\n",
       "      <td>399581.0</td>\n",
       "    </tr>\n",
       "    <tr>\n",
       "      <th>breakfast</th>\n",
       "      <td>709569</td>\n",
       "      <td>398013.0</td>\n",
       "    </tr>\n",
       "    <tr>\n",
       "      <th>household</th>\n",
       "      <td>738666</td>\n",
       "      <td>297075.0</td>\n",
       "    </tr>\n",
       "    <tr>\n",
       "      <th>babies</th>\n",
       "      <td>423802</td>\n",
       "      <td>245369.0</td>\n",
       "    </tr>\n",
       "    <tr>\n",
       "      <th>personal care</th>\n",
       "      <td>447123</td>\n",
       "      <td>143584.0</td>\n",
       "    </tr>\n",
       "    <tr>\n",
       "      <th>international</th>\n",
       "      <td>269253</td>\n",
       "      <td>99416.0</td>\n",
       "    </tr>\n",
       "    <tr>\n",
       "      <th>alcohol</th>\n",
       "      <td>153696</td>\n",
       "      <td>87595.0</td>\n",
       "    </tr>\n",
       "    <tr>\n",
       "      <th>pets</th>\n",
       "      <td>97724</td>\n",
       "      <td>58760.0</td>\n",
       "    </tr>\n",
       "    <tr>\n",
       "      <th>missing</th>\n",
       "      <td>69145</td>\n",
       "      <td>27371.0</td>\n",
       "    </tr>\n",
       "    <tr>\n",
       "      <th>bulk</th>\n",
       "      <td>34573</td>\n",
       "      <td>19950.0</td>\n",
       "    </tr>\n",
       "    <tr>\n",
       "      <th>other</th>\n",
       "      <td>36291</td>\n",
       "      <td>14806.0</td>\n",
       "    </tr>\n",
       "  </tbody>\n",
       "</table>\n",
       "</div>"
      ],
      "text/plain": [
       "                 Total Orders  Re-Ordered Count\n",
       "department                                     \n",
       "produce               9479291         6160710.0\n",
       "dairy eggs            5414016         3627221.0\n",
       "beverages             2690129         1757892.0\n",
       "snacks                2887550         1657973.0\n",
       "frozen                2236432         1211890.0\n",
       "bakery                1176787          739188.0\n",
       "pantry                1875577          650301.0\n",
       "deli                  1051249          638864.0\n",
       "canned goods          1068058          488535.0\n",
       "meat seafood           708931          402442.0\n",
       "dry goods pasta        866627          399581.0\n",
       "breakfast              709569          398013.0\n",
       "household              738666          297075.0\n",
       "babies                 423802          245369.0\n",
       "personal care          447123          143584.0\n",
       "international          269253           99416.0\n",
       "alcohol                153696           87595.0\n",
       "pets                    97724           58760.0\n",
       "missing                 69145           27371.0\n",
       "bulk                    34573           19950.0\n",
       "other                   36291           14806.0"
      ]
     },
     "execution_count": 41,
     "metadata": {},
     "output_type": "execute_result"
    }
   ],
   "source": [
    "popular_dept_3 = popular_dept_2.sort_values('Re-Ordered Count', ascending = False)\n",
    "popular_dept_3"
   ]
  },
  {
   "cell_type": "code",
   "execution_count": 42,
   "metadata": {
    "execution": {
     "iopub.status.busy": "2024-11-14T23:05:25.278486Z",
     "iopub.status.idle": "2024-11-14T23:05:25.279025Z",
     "shell.execute_reply": "2024-11-14T23:05:25.278771Z",
     "shell.execute_reply.started": "2024-11-14T23:05:25.278742Z"
    }
   },
   "outputs": [
    {
     "data": {
      "text/html": [
       "<div>\n",
       "<style scoped>\n",
       "    .dataframe tbody tr th:only-of-type {\n",
       "        vertical-align: middle;\n",
       "    }\n",
       "\n",
       "    .dataframe tbody tr th {\n",
       "        vertical-align: top;\n",
       "    }\n",
       "\n",
       "    .dataframe thead th {\n",
       "        text-align: right;\n",
       "    }\n",
       "</style>\n",
       "<table border=\"1\" class=\"dataframe\">\n",
       "  <thead>\n",
       "    <tr style=\"text-align: right;\">\n",
       "      <th></th>\n",
       "      <th>Total Orders</th>\n",
       "      <th>Re-Ordered Count</th>\n",
       "      <th>Ratio</th>\n",
       "    </tr>\n",
       "    <tr>\n",
       "      <th>department</th>\n",
       "      <th></th>\n",
       "      <th></th>\n",
       "      <th></th>\n",
       "    </tr>\n",
       "  </thead>\n",
       "  <tbody>\n",
       "    <tr>\n",
       "      <th>produce</th>\n",
       "      <td>9479291</td>\n",
       "      <td>6160710.0</td>\n",
       "      <td>0.649913</td>\n",
       "    </tr>\n",
       "    <tr>\n",
       "      <th>dairy eggs</th>\n",
       "      <td>5414016</td>\n",
       "      <td>3627221.0</td>\n",
       "      <td>0.669969</td>\n",
       "    </tr>\n",
       "    <tr>\n",
       "      <th>beverages</th>\n",
       "      <td>2690129</td>\n",
       "      <td>1757892.0</td>\n",
       "      <td>0.653460</td>\n",
       "    </tr>\n",
       "    <tr>\n",
       "      <th>snacks</th>\n",
       "      <td>2887550</td>\n",
       "      <td>1657973.0</td>\n",
       "      <td>0.574180</td>\n",
       "    </tr>\n",
       "    <tr>\n",
       "      <th>frozen</th>\n",
       "      <td>2236432</td>\n",
       "      <td>1211890.0</td>\n",
       "      <td>0.541885</td>\n",
       "    </tr>\n",
       "    <tr>\n",
       "      <th>bakery</th>\n",
       "      <td>1176787</td>\n",
       "      <td>739188.0</td>\n",
       "      <td>0.628141</td>\n",
       "    </tr>\n",
       "    <tr>\n",
       "      <th>pantry</th>\n",
       "      <td>1875577</td>\n",
       "      <td>650301.0</td>\n",
       "      <td>0.346721</td>\n",
       "    </tr>\n",
       "    <tr>\n",
       "      <th>deli</th>\n",
       "      <td>1051249</td>\n",
       "      <td>638864.0</td>\n",
       "      <td>0.607719</td>\n",
       "    </tr>\n",
       "    <tr>\n",
       "      <th>canned goods</th>\n",
       "      <td>1068058</td>\n",
       "      <td>488535.0</td>\n",
       "      <td>0.457405</td>\n",
       "    </tr>\n",
       "    <tr>\n",
       "      <th>meat seafood</th>\n",
       "      <td>708931</td>\n",
       "      <td>402442.0</td>\n",
       "      <td>0.567674</td>\n",
       "    </tr>\n",
       "    <tr>\n",
       "      <th>dry goods pasta</th>\n",
       "      <td>866627</td>\n",
       "      <td>399581.0</td>\n",
       "      <td>0.461076</td>\n",
       "    </tr>\n",
       "    <tr>\n",
       "      <th>breakfast</th>\n",
       "      <td>709569</td>\n",
       "      <td>398013.0</td>\n",
       "      <td>0.560922</td>\n",
       "    </tr>\n",
       "    <tr>\n",
       "      <th>household</th>\n",
       "      <td>738666</td>\n",
       "      <td>297075.0</td>\n",
       "      <td>0.402178</td>\n",
       "    </tr>\n",
       "    <tr>\n",
       "      <th>babies</th>\n",
       "      <td>423802</td>\n",
       "      <td>245369.0</td>\n",
       "      <td>0.578971</td>\n",
       "    </tr>\n",
       "    <tr>\n",
       "      <th>personal care</th>\n",
       "      <td>447123</td>\n",
       "      <td>143584.0</td>\n",
       "      <td>0.321129</td>\n",
       "    </tr>\n",
       "    <tr>\n",
       "      <th>international</th>\n",
       "      <td>269253</td>\n",
       "      <td>99416.0</td>\n",
       "      <td>0.369229</td>\n",
       "    </tr>\n",
       "    <tr>\n",
       "      <th>alcohol</th>\n",
       "      <td>153696</td>\n",
       "      <td>87595.0</td>\n",
       "      <td>0.569924</td>\n",
       "    </tr>\n",
       "    <tr>\n",
       "      <th>pets</th>\n",
       "      <td>97724</td>\n",
       "      <td>58760.0</td>\n",
       "      <td>0.601285</td>\n",
       "    </tr>\n",
       "    <tr>\n",
       "      <th>missing</th>\n",
       "      <td>69145</td>\n",
       "      <td>27371.0</td>\n",
       "      <td>0.395849</td>\n",
       "    </tr>\n",
       "    <tr>\n",
       "      <th>bulk</th>\n",
       "      <td>34573</td>\n",
       "      <td>19950.0</td>\n",
       "      <td>0.577040</td>\n",
       "    </tr>\n",
       "    <tr>\n",
       "      <th>other</th>\n",
       "      <td>36291</td>\n",
       "      <td>14806.0</td>\n",
       "      <td>0.407980</td>\n",
       "    </tr>\n",
       "  </tbody>\n",
       "</table>\n",
       "</div>"
      ],
      "text/plain": [
       "                 Total Orders  Re-Ordered Count     Ratio\n",
       "department                                               \n",
       "produce               9479291         6160710.0  0.649913\n",
       "dairy eggs            5414016         3627221.0  0.669969\n",
       "beverages             2690129         1757892.0  0.653460\n",
       "snacks                2887550         1657973.0  0.574180\n",
       "frozen                2236432         1211890.0  0.541885\n",
       "bakery                1176787          739188.0  0.628141\n",
       "pantry                1875577          650301.0  0.346721\n",
       "deli                  1051249          638864.0  0.607719\n",
       "canned goods          1068058          488535.0  0.457405\n",
       "meat seafood           708931          402442.0  0.567674\n",
       "dry goods pasta        866627          399581.0  0.461076\n",
       "breakfast              709569          398013.0  0.560922\n",
       "household              738666          297075.0  0.402178\n",
       "babies                 423802          245369.0  0.578971\n",
       "personal care          447123          143584.0  0.321129\n",
       "international          269253           99416.0  0.369229\n",
       "alcohol                153696           87595.0  0.569924\n",
       "pets                    97724           58760.0  0.601285\n",
       "missing                 69145           27371.0  0.395849\n",
       "bulk                    34573           19950.0  0.577040\n",
       "other                   36291           14806.0  0.407980"
      ]
     },
     "execution_count": 42,
     "metadata": {},
     "output_type": "execute_result"
    }
   ],
   "source": [
    "popular_dept_3['Ratio'] = popular_dept_3['Re-Ordered Count'] / popular_dept_3['Total Orders']\n",
    "popular_dept_3"
   ]
  },
  {
   "cell_type": "code",
   "execution_count": 43,
   "metadata": {
    "execution": {
     "iopub.status.busy": "2024-11-14T23:05:25.280760Z",
     "iopub.status.idle": "2024-11-14T23:05:25.281261Z",
     "shell.execute_reply": "2024-11-14T23:05:25.281033Z",
     "shell.execute_reply.started": "2024-11-14T23:05:25.281005Z"
    }
   },
   "outputs": [
    {
     "data": {
      "text/html": [
       "<div>\n",
       "<style scoped>\n",
       "    .dataframe tbody tr th:only-of-type {\n",
       "        vertical-align: middle;\n",
       "    }\n",
       "\n",
       "    .dataframe tbody tr th {\n",
       "        vertical-align: top;\n",
       "    }\n",
       "\n",
       "    .dataframe thead th {\n",
       "        text-align: right;\n",
       "    }\n",
       "</style>\n",
       "<table border=\"1\" class=\"dataframe\">\n",
       "  <thead>\n",
       "    <tr style=\"text-align: right;\">\n",
       "      <th></th>\n",
       "      <th>Total Orders</th>\n",
       "      <th>Re-Ordered Count</th>\n",
       "      <th>Ratio</th>\n",
       "    </tr>\n",
       "    <tr>\n",
       "      <th>department</th>\n",
       "      <th></th>\n",
       "      <th></th>\n",
       "      <th></th>\n",
       "    </tr>\n",
       "  </thead>\n",
       "  <tbody>\n",
       "    <tr>\n",
       "      <th>dairy eggs</th>\n",
       "      <td>5414016</td>\n",
       "      <td>3627221.0</td>\n",
       "      <td>0.669969</td>\n",
       "    </tr>\n",
       "    <tr>\n",
       "      <th>beverages</th>\n",
       "      <td>2690129</td>\n",
       "      <td>1757892.0</td>\n",
       "      <td>0.653460</td>\n",
       "    </tr>\n",
       "    <tr>\n",
       "      <th>produce</th>\n",
       "      <td>9479291</td>\n",
       "      <td>6160710.0</td>\n",
       "      <td>0.649913</td>\n",
       "    </tr>\n",
       "    <tr>\n",
       "      <th>bakery</th>\n",
       "      <td>1176787</td>\n",
       "      <td>739188.0</td>\n",
       "      <td>0.628141</td>\n",
       "    </tr>\n",
       "    <tr>\n",
       "      <th>deli</th>\n",
       "      <td>1051249</td>\n",
       "      <td>638864.0</td>\n",
       "      <td>0.607719</td>\n",
       "    </tr>\n",
       "    <tr>\n",
       "      <th>pets</th>\n",
       "      <td>97724</td>\n",
       "      <td>58760.0</td>\n",
       "      <td>0.601285</td>\n",
       "    </tr>\n",
       "    <tr>\n",
       "      <th>babies</th>\n",
       "      <td>423802</td>\n",
       "      <td>245369.0</td>\n",
       "      <td>0.578971</td>\n",
       "    </tr>\n",
       "    <tr>\n",
       "      <th>bulk</th>\n",
       "      <td>34573</td>\n",
       "      <td>19950.0</td>\n",
       "      <td>0.577040</td>\n",
       "    </tr>\n",
       "    <tr>\n",
       "      <th>snacks</th>\n",
       "      <td>2887550</td>\n",
       "      <td>1657973.0</td>\n",
       "      <td>0.574180</td>\n",
       "    </tr>\n",
       "    <tr>\n",
       "      <th>alcohol</th>\n",
       "      <td>153696</td>\n",
       "      <td>87595.0</td>\n",
       "      <td>0.569924</td>\n",
       "    </tr>\n",
       "    <tr>\n",
       "      <th>meat seafood</th>\n",
       "      <td>708931</td>\n",
       "      <td>402442.0</td>\n",
       "      <td>0.567674</td>\n",
       "    </tr>\n",
       "    <tr>\n",
       "      <th>breakfast</th>\n",
       "      <td>709569</td>\n",
       "      <td>398013.0</td>\n",
       "      <td>0.560922</td>\n",
       "    </tr>\n",
       "    <tr>\n",
       "      <th>frozen</th>\n",
       "      <td>2236432</td>\n",
       "      <td>1211890.0</td>\n",
       "      <td>0.541885</td>\n",
       "    </tr>\n",
       "    <tr>\n",
       "      <th>dry goods pasta</th>\n",
       "      <td>866627</td>\n",
       "      <td>399581.0</td>\n",
       "      <td>0.461076</td>\n",
       "    </tr>\n",
       "    <tr>\n",
       "      <th>canned goods</th>\n",
       "      <td>1068058</td>\n",
       "      <td>488535.0</td>\n",
       "      <td>0.457405</td>\n",
       "    </tr>\n",
       "    <tr>\n",
       "      <th>other</th>\n",
       "      <td>36291</td>\n",
       "      <td>14806.0</td>\n",
       "      <td>0.407980</td>\n",
       "    </tr>\n",
       "    <tr>\n",
       "      <th>household</th>\n",
       "      <td>738666</td>\n",
       "      <td>297075.0</td>\n",
       "      <td>0.402178</td>\n",
       "    </tr>\n",
       "    <tr>\n",
       "      <th>missing</th>\n",
       "      <td>69145</td>\n",
       "      <td>27371.0</td>\n",
       "      <td>0.395849</td>\n",
       "    </tr>\n",
       "    <tr>\n",
       "      <th>international</th>\n",
       "      <td>269253</td>\n",
       "      <td>99416.0</td>\n",
       "      <td>0.369229</td>\n",
       "    </tr>\n",
       "    <tr>\n",
       "      <th>pantry</th>\n",
       "      <td>1875577</td>\n",
       "      <td>650301.0</td>\n",
       "      <td>0.346721</td>\n",
       "    </tr>\n",
       "    <tr>\n",
       "      <th>personal care</th>\n",
       "      <td>447123</td>\n",
       "      <td>143584.0</td>\n",
       "      <td>0.321129</td>\n",
       "    </tr>\n",
       "  </tbody>\n",
       "</table>\n",
       "</div>"
      ],
      "text/plain": [
       "                 Total Orders  Re-Ordered Count     Ratio\n",
       "department                                               \n",
       "dairy eggs            5414016         3627221.0  0.669969\n",
       "beverages             2690129         1757892.0  0.653460\n",
       "produce               9479291         6160710.0  0.649913\n",
       "bakery                1176787          739188.0  0.628141\n",
       "deli                  1051249          638864.0  0.607719\n",
       "pets                    97724           58760.0  0.601285\n",
       "babies                 423802          245369.0  0.578971\n",
       "bulk                    34573           19950.0  0.577040\n",
       "snacks                2887550         1657973.0  0.574180\n",
       "alcohol                153696           87595.0  0.569924\n",
       "meat seafood           708931          402442.0  0.567674\n",
       "breakfast              709569          398013.0  0.560922\n",
       "frozen                2236432         1211890.0  0.541885\n",
       "dry goods pasta        866627          399581.0  0.461076\n",
       "canned goods          1068058          488535.0  0.457405\n",
       "other                   36291           14806.0  0.407980\n",
       "household              738666          297075.0  0.402178\n",
       "missing                 69145           27371.0  0.395849\n",
       "international          269253           99416.0  0.369229\n",
       "pantry                1875577          650301.0  0.346721\n",
       "personal care          447123          143584.0  0.321129"
      ]
     },
     "execution_count": 43,
     "metadata": {},
     "output_type": "execute_result"
    }
   ],
   "source": [
    "popular_dept_3 = popular_dept_3.sort_values('Ratio', ascending = False)\n",
    "popular_dept_3"
   ]
  },
  {
   "cell_type": "code",
   "execution_count": 44,
   "metadata": {
    "execution": {
     "iopub.status.busy": "2024-11-14T23:05:25.282793Z",
     "iopub.status.idle": "2024-11-14T23:05:25.283353Z",
     "shell.execute_reply": "2024-11-14T23:05:25.283116Z",
     "shell.execute_reply.started": "2024-11-14T23:05:25.283088Z"
    }
   },
   "outputs": [
    {
     "data": {
      "text/html": [
       "<div>\n",
       "<style scoped>\n",
       "    .dataframe tbody tr th:only-of-type {\n",
       "        vertical-align: middle;\n",
       "    }\n",
       "\n",
       "    .dataframe tbody tr th {\n",
       "        vertical-align: top;\n",
       "    }\n",
       "\n",
       "    .dataframe thead th {\n",
       "        text-align: right;\n",
       "    }\n",
       "</style>\n",
       "<table border=\"1\" class=\"dataframe\">\n",
       "  <thead>\n",
       "    <tr style=\"text-align: right;\">\n",
       "      <th></th>\n",
       "      <th>Total Orders</th>\n",
       "      <th>Re-Ordered Count</th>\n",
       "      <th>Ratio</th>\n",
       "    </tr>\n",
       "    <tr>\n",
       "      <th>department</th>\n",
       "      <th></th>\n",
       "      <th></th>\n",
       "      <th></th>\n",
       "    </tr>\n",
       "  </thead>\n",
       "  <tbody>\n",
       "    <tr>\n",
       "      <th>dairy eggs</th>\n",
       "      <td>5414016</td>\n",
       "      <td>3627221.0</td>\n",
       "      <td>0.669969</td>\n",
       "    </tr>\n",
       "    <tr>\n",
       "      <th>beverages</th>\n",
       "      <td>2690129</td>\n",
       "      <td>1757892.0</td>\n",
       "      <td>0.653460</td>\n",
       "    </tr>\n",
       "    <tr>\n",
       "      <th>produce</th>\n",
       "      <td>9479291</td>\n",
       "      <td>6160710.0</td>\n",
       "      <td>0.649913</td>\n",
       "    </tr>\n",
       "  </tbody>\n",
       "</table>\n",
       "</div>"
      ],
      "text/plain": [
       "            Total Orders  Re-Ordered Count     Ratio\n",
       "department                                          \n",
       "dairy eggs       5414016         3627221.0  0.669969\n",
       "beverages        2690129         1757892.0  0.653460\n",
       "produce          9479291         6160710.0  0.649913"
      ]
     },
     "execution_count": 44,
     "metadata": {},
     "output_type": "execute_result"
    }
   ],
   "source": [
    "popular_dept_3[0:3]"
   ]
  },
  {
   "cell_type": "markdown",
   "metadata": {},
   "source": [
    "Departments having highest rate of returning customers are Dairy Eggs, Beverages and Produce."
   ]
  },
  {
   "cell_type": "markdown",
   "metadata": {},
   "source": [
    "Q3. Mention the products which have the highest rate of reorders?"
   ]
  },
  {
   "cell_type": "code",
   "execution_count": 45,
   "metadata": {
    "execution": {
     "iopub.status.busy": "2024-11-14T23:05:25.284487Z",
     "iopub.status.idle": "2024-11-14T23:05:25.285032Z",
     "shell.execute_reply": "2024-11-14T23:05:25.284781Z",
     "shell.execute_reply.started": "2024-11-14T23:05:25.284752Z"
    }
   },
   "outputs": [
    {
     "data": {
      "text/html": [
       "<div>\n",
       "<style scoped>\n",
       "    .dataframe tbody tr th:only-of-type {\n",
       "        vertical-align: middle;\n",
       "    }\n",
       "\n",
       "    .dataframe tbody tr th {\n",
       "        vertical-align: top;\n",
       "    }\n",
       "\n",
       "    .dataframe thead th {\n",
       "        text-align: right;\n",
       "    }\n",
       "</style>\n",
       "<table border=\"1\" class=\"dataframe\">\n",
       "  <thead>\n",
       "    <tr style=\"text-align: right;\">\n",
       "      <th></th>\n",
       "      <th>count</th>\n",
       "      <th>sum</th>\n",
       "    </tr>\n",
       "    <tr>\n",
       "      <th>product_name</th>\n",
       "      <th></th>\n",
       "      <th></th>\n",
       "    </tr>\n",
       "  </thead>\n",
       "  <tbody>\n",
       "    <tr>\n",
       "      <th>#2 Coffee Filters</th>\n",
       "      <td>777</td>\n",
       "      <td>257.0</td>\n",
       "    </tr>\n",
       "    <tr>\n",
       "      <th>#2 Cone White Coffee Filters</th>\n",
       "      <td>13</td>\n",
       "      <td>3.0</td>\n",
       "    </tr>\n",
       "    <tr>\n",
       "      <th>#2 Mechanical Pencils</th>\n",
       "      <td>8</td>\n",
       "      <td>0.0</td>\n",
       "    </tr>\n",
       "    <tr>\n",
       "      <th>#4 Natural Brown Coffee Filters</th>\n",
       "      <td>241</td>\n",
       "      <td>89.0</td>\n",
       "    </tr>\n",
       "    <tr>\n",
       "      <th>&amp; Go! Hazelnut Spread + Pretzel Sticks</th>\n",
       "      <td>164</td>\n",
       "      <td>87.0</td>\n",
       "    </tr>\n",
       "    <tr>\n",
       "      <th>...</th>\n",
       "      <td>...</td>\n",
       "      <td>...</td>\n",
       "    </tr>\n",
       "    <tr>\n",
       "      <th>with Xylitol Unwrapped Original Flavor 50 Sticks Sugar Free Gum</th>\n",
       "      <td>37</td>\n",
       "      <td>17.0</td>\n",
       "    </tr>\n",
       "    <tr>\n",
       "      <th>with Xylitol Unwrapped Spearmint 50 Sticks Sugar Free Gum</th>\n",
       "      <td>55</td>\n",
       "      <td>19.0</td>\n",
       "    </tr>\n",
       "    <tr>\n",
       "      <th>with Xylitol Watermelon Twist 18 Sticks Sugar Free Gum</th>\n",
       "      <td>68</td>\n",
       "      <td>31.0</td>\n",
       "    </tr>\n",
       "    <tr>\n",
       "      <th>with a Splash of Mango Coconut Water</th>\n",
       "      <td>23</td>\n",
       "      <td>6.0</td>\n",
       "    </tr>\n",
       "    <tr>\n",
       "      <th>with a Splash of Pineapple Coconut Water</th>\n",
       "      <td>53</td>\n",
       "      <td>25.0</td>\n",
       "    </tr>\n",
       "  </tbody>\n",
       "</table>\n",
       "<p>49688 rows × 2 columns</p>\n",
       "</div>"
      ],
      "text/plain": [
       "                                                    count    sum\n",
       "product_name                                                    \n",
       "#2 Coffee Filters                                     777  257.0\n",
       "#2 Cone White Coffee Filters                           13    3.0\n",
       "#2 Mechanical Pencils                                   8    0.0\n",
       "#4 Natural Brown Coffee Filters                       241   89.0\n",
       "& Go! Hazelnut Spread + Pretzel Sticks                164   87.0\n",
       "...                                                   ...    ...\n",
       "with Xylitol Unwrapped Original Flavor 50 Stick...     37   17.0\n",
       "with Xylitol Unwrapped Spearmint 50 Sticks Suga...     55   19.0\n",
       "with Xylitol Watermelon Twist 18 Sticks Sugar F...     68   31.0\n",
       "with a Splash of Mango Coconut Water                   23    6.0\n",
       "with a Splash of Pineapple Coconut Water               53   25.0\n",
       "\n",
       "[49688 rows x 2 columns]"
      ]
     },
     "execution_count": 45,
     "metadata": {},
     "output_type": "execute_result"
    }
   ],
   "source": [
    "popular_prod_1 = final_join.groupby('product_name')['reordered'].aggregate(['count', 'sum'])\n",
    "popular_prod_1"
   ]
  },
  {
   "cell_type": "code",
   "execution_count": 46,
   "metadata": {
    "execution": {
     "iopub.status.busy": "2024-11-14T23:05:25.286432Z",
     "iopub.status.idle": "2024-11-14T23:05:25.286981Z",
     "shell.execute_reply": "2024-11-14T23:05:25.286717Z",
     "shell.execute_reply.started": "2024-11-14T23:05:25.286669Z"
    }
   },
   "outputs": [
    {
     "data": {
      "text/html": [
       "<div>\n",
       "<style scoped>\n",
       "    .dataframe tbody tr th:only-of-type {\n",
       "        vertical-align: middle;\n",
       "    }\n",
       "\n",
       "    .dataframe tbody tr th {\n",
       "        vertical-align: top;\n",
       "    }\n",
       "\n",
       "    .dataframe thead th {\n",
       "        text-align: right;\n",
       "    }\n",
       "</style>\n",
       "<table border=\"1\" class=\"dataframe\">\n",
       "  <thead>\n",
       "    <tr style=\"text-align: right;\">\n",
       "      <th></th>\n",
       "      <th>Total Product Orders</th>\n",
       "      <th>Reordered Count</th>\n",
       "    </tr>\n",
       "    <tr>\n",
       "      <th>product_name</th>\n",
       "      <th></th>\n",
       "      <th></th>\n",
       "    </tr>\n",
       "  </thead>\n",
       "  <tbody>\n",
       "    <tr>\n",
       "      <th>#2 Coffee Filters</th>\n",
       "      <td>777</td>\n",
       "      <td>257.0</td>\n",
       "    </tr>\n",
       "    <tr>\n",
       "      <th>#2 Cone White Coffee Filters</th>\n",
       "      <td>13</td>\n",
       "      <td>3.0</td>\n",
       "    </tr>\n",
       "    <tr>\n",
       "      <th>#2 Mechanical Pencils</th>\n",
       "      <td>8</td>\n",
       "      <td>0.0</td>\n",
       "    </tr>\n",
       "    <tr>\n",
       "      <th>#4 Natural Brown Coffee Filters</th>\n",
       "      <td>241</td>\n",
       "      <td>89.0</td>\n",
       "    </tr>\n",
       "    <tr>\n",
       "      <th>&amp; Go! Hazelnut Spread + Pretzel Sticks</th>\n",
       "      <td>164</td>\n",
       "      <td>87.0</td>\n",
       "    </tr>\n",
       "    <tr>\n",
       "      <th>...</th>\n",
       "      <td>...</td>\n",
       "      <td>...</td>\n",
       "    </tr>\n",
       "    <tr>\n",
       "      <th>with Xylitol Unwrapped Original Flavor 50 Sticks Sugar Free Gum</th>\n",
       "      <td>37</td>\n",
       "      <td>17.0</td>\n",
       "    </tr>\n",
       "    <tr>\n",
       "      <th>with Xylitol Unwrapped Spearmint 50 Sticks Sugar Free Gum</th>\n",
       "      <td>55</td>\n",
       "      <td>19.0</td>\n",
       "    </tr>\n",
       "    <tr>\n",
       "      <th>with Xylitol Watermelon Twist 18 Sticks Sugar Free Gum</th>\n",
       "      <td>68</td>\n",
       "      <td>31.0</td>\n",
       "    </tr>\n",
       "    <tr>\n",
       "      <th>with a Splash of Mango Coconut Water</th>\n",
       "      <td>23</td>\n",
       "      <td>6.0</td>\n",
       "    </tr>\n",
       "    <tr>\n",
       "      <th>with a Splash of Pineapple Coconut Water</th>\n",
       "      <td>53</td>\n",
       "      <td>25.0</td>\n",
       "    </tr>\n",
       "  </tbody>\n",
       "</table>\n",
       "<p>49688 rows × 2 columns</p>\n",
       "</div>"
      ],
      "text/plain": [
       "                                                    Total Product Orders  \\\n",
       "product_name                                                               \n",
       "#2 Coffee Filters                                                    777   \n",
       "#2 Cone White Coffee Filters                                          13   \n",
       "#2 Mechanical Pencils                                                  8   \n",
       "#4 Natural Brown Coffee Filters                                      241   \n",
       "& Go! Hazelnut Spread + Pretzel Sticks                               164   \n",
       "...                                                                  ...   \n",
       "with Xylitol Unwrapped Original Flavor 50 Stick...                    37   \n",
       "with Xylitol Unwrapped Spearmint 50 Sticks Suga...                    55   \n",
       "with Xylitol Watermelon Twist 18 Sticks Sugar F...                    68   \n",
       "with a Splash of Mango Coconut Water                                  23   \n",
       "with a Splash of Pineapple Coconut Water                              53   \n",
       "\n",
       "                                                    Reordered Count  \n",
       "product_name                                                         \n",
       "#2 Coffee Filters                                             257.0  \n",
       "#2 Cone White Coffee Filters                                    3.0  \n",
       "#2 Mechanical Pencils                                           0.0  \n",
       "#4 Natural Brown Coffee Filters                                89.0  \n",
       "& Go! Hazelnut Spread + Pretzel Sticks                         87.0  \n",
       "...                                                             ...  \n",
       "with Xylitol Unwrapped Original Flavor 50 Stick...             17.0  \n",
       "with Xylitol Unwrapped Spearmint 50 Sticks Suga...             19.0  \n",
       "with Xylitol Watermelon Twist 18 Sticks Sugar F...             31.0  \n",
       "with a Splash of Mango Coconut Water                            6.0  \n",
       "with a Splash of Pineapple Coconut Water                       25.0  \n",
       "\n",
       "[49688 rows x 2 columns]"
      ]
     },
     "execution_count": 46,
     "metadata": {},
     "output_type": "execute_result"
    }
   ],
   "source": [
    "popular_prod_2 = popular_prod_1.rename(columns = {'count':'Total Product Orders', 'sum':'Reordered Count'})\n",
    "popular_prod_2"
   ]
  },
  {
   "cell_type": "code",
   "execution_count": 47,
   "metadata": {
    "execution": {
     "iopub.status.busy": "2024-11-14T23:05:25.288362Z",
     "iopub.status.idle": "2024-11-14T23:05:25.288901Z",
     "shell.execute_reply": "2024-11-14T23:05:25.288630Z",
     "shell.execute_reply.started": "2024-11-14T23:05:25.288602Z"
    }
   },
   "outputs": [
    {
     "data": {
      "text/html": [
       "<div>\n",
       "<style scoped>\n",
       "    .dataframe tbody tr th:only-of-type {\n",
       "        vertical-align: middle;\n",
       "    }\n",
       "\n",
       "    .dataframe tbody tr th {\n",
       "        vertical-align: top;\n",
       "    }\n",
       "\n",
       "    .dataframe thead th {\n",
       "        text-align: right;\n",
       "    }\n",
       "</style>\n",
       "<table border=\"1\" class=\"dataframe\">\n",
       "  <thead>\n",
       "    <tr style=\"text-align: right;\">\n",
       "      <th></th>\n",
       "      <th>Total Product Orders</th>\n",
       "      <th>Reordered Count</th>\n",
       "      <th>Ratio</th>\n",
       "    </tr>\n",
       "    <tr>\n",
       "      <th>product_name</th>\n",
       "      <th></th>\n",
       "      <th></th>\n",
       "      <th></th>\n",
       "    </tr>\n",
       "  </thead>\n",
       "  <tbody>\n",
       "    <tr>\n",
       "      <th>#2 Coffee Filters</th>\n",
       "      <td>777</td>\n",
       "      <td>257.0</td>\n",
       "      <td>0.330759</td>\n",
       "    </tr>\n",
       "    <tr>\n",
       "      <th>#2 Cone White Coffee Filters</th>\n",
       "      <td>13</td>\n",
       "      <td>3.0</td>\n",
       "      <td>0.230769</td>\n",
       "    </tr>\n",
       "    <tr>\n",
       "      <th>#2 Mechanical Pencils</th>\n",
       "      <td>8</td>\n",
       "      <td>0.0</td>\n",
       "      <td>0.000000</td>\n",
       "    </tr>\n",
       "    <tr>\n",
       "      <th>#4 Natural Brown Coffee Filters</th>\n",
       "      <td>241</td>\n",
       "      <td>89.0</td>\n",
       "      <td>0.369295</td>\n",
       "    </tr>\n",
       "    <tr>\n",
       "      <th>&amp; Go! Hazelnut Spread + Pretzel Sticks</th>\n",
       "      <td>164</td>\n",
       "      <td>87.0</td>\n",
       "      <td>0.530488</td>\n",
       "    </tr>\n",
       "    <tr>\n",
       "      <th>...</th>\n",
       "      <td>...</td>\n",
       "      <td>...</td>\n",
       "      <td>...</td>\n",
       "    </tr>\n",
       "    <tr>\n",
       "      <th>with Xylitol Unwrapped Original Flavor 50 Sticks Sugar Free Gum</th>\n",
       "      <td>37</td>\n",
       "      <td>17.0</td>\n",
       "      <td>0.459459</td>\n",
       "    </tr>\n",
       "    <tr>\n",
       "      <th>with Xylitol Unwrapped Spearmint 50 Sticks Sugar Free Gum</th>\n",
       "      <td>55</td>\n",
       "      <td>19.0</td>\n",
       "      <td>0.345455</td>\n",
       "    </tr>\n",
       "    <tr>\n",
       "      <th>with Xylitol Watermelon Twist 18 Sticks Sugar Free Gum</th>\n",
       "      <td>68</td>\n",
       "      <td>31.0</td>\n",
       "      <td>0.455882</td>\n",
       "    </tr>\n",
       "    <tr>\n",
       "      <th>with a Splash of Mango Coconut Water</th>\n",
       "      <td>23</td>\n",
       "      <td>6.0</td>\n",
       "      <td>0.260870</td>\n",
       "    </tr>\n",
       "    <tr>\n",
       "      <th>with a Splash of Pineapple Coconut Water</th>\n",
       "      <td>53</td>\n",
       "      <td>25.0</td>\n",
       "      <td>0.471698</td>\n",
       "    </tr>\n",
       "  </tbody>\n",
       "</table>\n",
       "<p>49688 rows × 3 columns</p>\n",
       "</div>"
      ],
      "text/plain": [
       "                                                    Total Product Orders  \\\n",
       "product_name                                                               \n",
       "#2 Coffee Filters                                                    777   \n",
       "#2 Cone White Coffee Filters                                          13   \n",
       "#2 Mechanical Pencils                                                  8   \n",
       "#4 Natural Brown Coffee Filters                                      241   \n",
       "& Go! Hazelnut Spread + Pretzel Sticks                               164   \n",
       "...                                                                  ...   \n",
       "with Xylitol Unwrapped Original Flavor 50 Stick...                    37   \n",
       "with Xylitol Unwrapped Spearmint 50 Sticks Suga...                    55   \n",
       "with Xylitol Watermelon Twist 18 Sticks Sugar F...                    68   \n",
       "with a Splash of Mango Coconut Water                                  23   \n",
       "with a Splash of Pineapple Coconut Water                              53   \n",
       "\n",
       "                                                    Reordered Count     Ratio  \n",
       "product_name                                                                   \n",
       "#2 Coffee Filters                                             257.0  0.330759  \n",
       "#2 Cone White Coffee Filters                                    3.0  0.230769  \n",
       "#2 Mechanical Pencils                                           0.0  0.000000  \n",
       "#4 Natural Brown Coffee Filters                                89.0  0.369295  \n",
       "& Go! Hazelnut Spread + Pretzel Sticks                         87.0  0.530488  \n",
       "...                                                             ...       ...  \n",
       "with Xylitol Unwrapped Original Flavor 50 Stick...             17.0  0.459459  \n",
       "with Xylitol Unwrapped Spearmint 50 Sticks Suga...             19.0  0.345455  \n",
       "with Xylitol Watermelon Twist 18 Sticks Sugar F...             31.0  0.455882  \n",
       "with a Splash of Mango Coconut Water                            6.0  0.260870  \n",
       "with a Splash of Pineapple Coconut Water                       25.0  0.471698  \n",
       "\n",
       "[49688 rows x 3 columns]"
      ]
     },
     "execution_count": 47,
     "metadata": {},
     "output_type": "execute_result"
    }
   ],
   "source": [
    "popular_prod_2['Ratio']=popular_prod_2['Reordered Count']/popular_prod_2['Total Product Orders']\n",
    "popular_prod_2"
   ]
  },
  {
   "cell_type": "code",
   "execution_count": 48,
   "metadata": {
    "execution": {
     "iopub.status.busy": "2024-11-14T23:05:25.290491Z",
     "iopub.status.idle": "2024-11-14T23:05:25.291039Z",
     "shell.execute_reply": "2024-11-14T23:05:25.290780Z",
     "shell.execute_reply.started": "2024-11-14T23:05:25.290753Z"
    }
   },
   "outputs": [
    {
     "data": {
      "text/html": [
       "<div>\n",
       "<style scoped>\n",
       "    .dataframe tbody tr th:only-of-type {\n",
       "        vertical-align: middle;\n",
       "    }\n",
       "\n",
       "    .dataframe tbody tr th {\n",
       "        vertical-align: top;\n",
       "    }\n",
       "\n",
       "    .dataframe thead th {\n",
       "        text-align: right;\n",
       "    }\n",
       "</style>\n",
       "<table border=\"1\" class=\"dataframe\">\n",
       "  <thead>\n",
       "    <tr style=\"text-align: right;\">\n",
       "      <th></th>\n",
       "      <th>Total Product Orders</th>\n",
       "      <th>Reordered Count</th>\n",
       "      <th>Ratio</th>\n",
       "    </tr>\n",
       "    <tr>\n",
       "      <th>product_name</th>\n",
       "      <th></th>\n",
       "      <th></th>\n",
       "      <th></th>\n",
       "    </tr>\n",
       "  </thead>\n",
       "  <tbody>\n",
       "    <tr>\n",
       "      <th>Raw Veggie Wrappers</th>\n",
       "      <td>68</td>\n",
       "      <td>64.0</td>\n",
       "      <td>0.941176</td>\n",
       "    </tr>\n",
       "    <tr>\n",
       "      <th>Serenity Ultimate Extrema Overnight Pads</th>\n",
       "      <td>87</td>\n",
       "      <td>81.0</td>\n",
       "      <td>0.931034</td>\n",
       "    </tr>\n",
       "    <tr>\n",
       "      <th>Orange Energy Shots</th>\n",
       "      <td>13</td>\n",
       "      <td>12.0</td>\n",
       "      <td>0.923077</td>\n",
       "    </tr>\n",
       "    <tr>\n",
       "      <th>Chocolate Love Bar</th>\n",
       "      <td>101</td>\n",
       "      <td>93.0</td>\n",
       "      <td>0.920792</td>\n",
       "    </tr>\n",
       "    <tr>\n",
       "      <th>Soy Powder Infant Formula</th>\n",
       "      <td>35</td>\n",
       "      <td>32.0</td>\n",
       "      <td>0.914286</td>\n",
       "    </tr>\n",
       "    <tr>\n",
       "      <th>...</th>\n",
       "      <td>...</td>\n",
       "      <td>...</td>\n",
       "      <td>...</td>\n",
       "    </tr>\n",
       "    <tr>\n",
       "      <th>Sweetart Jelly Beans</th>\n",
       "      <td>0</td>\n",
       "      <td>0.0</td>\n",
       "      <td>NaN</td>\n",
       "    </tr>\n",
       "    <tr>\n",
       "      <th>Ultra Sun Blossom Liquid 90 loads Fabric Enhancers</th>\n",
       "      <td>0</td>\n",
       "      <td>0.0</td>\n",
       "      <td>NaN</td>\n",
       "    </tr>\n",
       "    <tr>\n",
       "      <th>Unpeeled Apricot Halves in Heavy Syrup</th>\n",
       "      <td>0</td>\n",
       "      <td>0.0</td>\n",
       "      <td>NaN</td>\n",
       "    </tr>\n",
       "    <tr>\n",
       "      <th>Wasabi Cheddar Spreadable Cheese</th>\n",
       "      <td>0</td>\n",
       "      <td>0.0</td>\n",
       "      <td>NaN</td>\n",
       "    </tr>\n",
       "    <tr>\n",
       "      <th>Water With Electrolytes</th>\n",
       "      <td>0</td>\n",
       "      <td>0.0</td>\n",
       "      <td>NaN</td>\n",
       "    </tr>\n",
       "  </tbody>\n",
       "</table>\n",
       "<p>49688 rows × 3 columns</p>\n",
       "</div>"
      ],
      "text/plain": [
       "                                                    Total Product Orders  \\\n",
       "product_name                                                               \n",
       "Raw Veggie Wrappers                                                   68   \n",
       "Serenity Ultimate Extrema Overnight Pads                              87   \n",
       "Orange Energy Shots                                                   13   \n",
       "Chocolate Love Bar                                                   101   \n",
       "Soy Powder Infant Formula                                             35   \n",
       "...                                                                  ...   \n",
       "Sweetart Jelly Beans                                                   0   \n",
       "Ultra Sun Blossom Liquid 90 loads Fabric Enhancers                     0   \n",
       "Unpeeled Apricot Halves in Heavy Syrup                                 0   \n",
       "Wasabi Cheddar Spreadable Cheese                                       0   \n",
       "Water With Electrolytes                                                0   \n",
       "\n",
       "                                                    Reordered Count     Ratio  \n",
       "product_name                                                                   \n",
       "Raw Veggie Wrappers                                            64.0  0.941176  \n",
       "Serenity Ultimate Extrema Overnight Pads                       81.0  0.931034  \n",
       "Orange Energy Shots                                            12.0  0.923077  \n",
       "Chocolate Love Bar                                             93.0  0.920792  \n",
       "Soy Powder Infant Formula                                      32.0  0.914286  \n",
       "...                                                             ...       ...  \n",
       "Sweetart Jelly Beans                                            0.0       NaN  \n",
       "Ultra Sun Blossom Liquid 90 loads Fabric Enhancers              0.0       NaN  \n",
       "Unpeeled Apricot Halves in Heavy Syrup                          0.0       NaN  \n",
       "Wasabi Cheddar Spreadable Cheese                                0.0       NaN  \n",
       "Water With Electrolytes                                         0.0       NaN  \n",
       "\n",
       "[49688 rows x 3 columns]"
      ]
     },
     "execution_count": 48,
     "metadata": {},
     "output_type": "execute_result"
    }
   ],
   "source": [
    "popular_prod_3 = popular_prod_2.sort_values('Ratio', ascending=False)\n",
    "popular_prod_3"
   ]
  },
  {
   "cell_type": "code",
   "execution_count": 49,
   "metadata": {
    "execution": {
     "iopub.status.busy": "2024-11-14T23:05:25.292264Z",
     "iopub.status.idle": "2024-11-14T23:05:25.292655Z",
     "shell.execute_reply": "2024-11-14T23:05:25.292479Z",
     "shell.execute_reply.started": "2024-11-14T23:05:25.292459Z"
    }
   },
   "outputs": [
    {
     "data": {
      "text/html": [
       "<div>\n",
       "<style scoped>\n",
       "    .dataframe tbody tr th:only-of-type {\n",
       "        vertical-align: middle;\n",
       "    }\n",
       "\n",
       "    .dataframe tbody tr th {\n",
       "        vertical-align: top;\n",
       "    }\n",
       "\n",
       "    .dataframe thead th {\n",
       "        text-align: right;\n",
       "    }\n",
       "</style>\n",
       "<table border=\"1\" class=\"dataframe\">\n",
       "  <thead>\n",
       "    <tr style=\"text-align: right;\">\n",
       "      <th></th>\n",
       "      <th>Total Product Orders</th>\n",
       "      <th>Reordered Count</th>\n",
       "      <th>Ratio</th>\n",
       "    </tr>\n",
       "    <tr>\n",
       "      <th>product_name</th>\n",
       "      <th></th>\n",
       "      <th></th>\n",
       "      <th></th>\n",
       "    </tr>\n",
       "  </thead>\n",
       "  <tbody>\n",
       "    <tr>\n",
       "      <th>Raw Veggie Wrappers</th>\n",
       "      <td>68</td>\n",
       "      <td>64.0</td>\n",
       "      <td>0.941176</td>\n",
       "    </tr>\n",
       "    <tr>\n",
       "      <th>Serenity Ultimate Extrema Overnight Pads</th>\n",
       "      <td>87</td>\n",
       "      <td>81.0</td>\n",
       "      <td>0.931034</td>\n",
       "    </tr>\n",
       "    <tr>\n",
       "      <th>Orange Energy Shots</th>\n",
       "      <td>13</td>\n",
       "      <td>12.0</td>\n",
       "      <td>0.923077</td>\n",
       "    </tr>\n",
       "  </tbody>\n",
       "</table>\n",
       "</div>"
      ],
      "text/plain": [
       "                                          Total Product Orders  \\\n",
       "product_name                                                     \n",
       "Raw Veggie Wrappers                                         68   \n",
       "Serenity Ultimate Extrema Overnight Pads                    87   \n",
       "Orange Energy Shots                                         13   \n",
       "\n",
       "                                          Reordered Count     Ratio  \n",
       "product_name                                                         \n",
       "Raw Veggie Wrappers                                  64.0  0.941176  \n",
       "Serenity Ultimate Extrema Overnight Pads             81.0  0.931034  \n",
       "Orange Energy Shots                                  12.0  0.923077  "
      ]
     },
     "execution_count": 49,
     "metadata": {},
     "output_type": "execute_result"
    }
   ],
   "source": [
    "popular_prod_3[0:3]"
   ]
  },
  {
   "cell_type": "markdown",
   "metadata": {},
   "source": [
    "The 3 products with highest reorder rate were Raw Veggie Wrappers, Serenity Ultimate Extrema Overnight Pads and Orange Energy Shots."
   ]
  },
  {
   "cell_type": "markdown",
   "metadata": {},
   "source": [
    "Q4. Mention the products which have the highest reorders?"
   ]
  },
  {
   "cell_type": "code",
   "execution_count": 50,
   "metadata": {
    "execution": {
     "iopub.status.busy": "2024-11-14T23:05:25.293778Z",
     "iopub.status.idle": "2024-11-14T23:05:25.294165Z",
     "shell.execute_reply": "2024-11-14T23:05:25.293998Z",
     "shell.execute_reply.started": "2024-11-14T23:05:25.293979Z"
    }
   },
   "outputs": [
    {
     "data": {
      "text/html": [
       "<div>\n",
       "<style scoped>\n",
       "    .dataframe tbody tr th:only-of-type {\n",
       "        vertical-align: middle;\n",
       "    }\n",
       "\n",
       "    .dataframe tbody tr th {\n",
       "        vertical-align: top;\n",
       "    }\n",
       "\n",
       "    .dataframe thead th {\n",
       "        text-align: right;\n",
       "    }\n",
       "</style>\n",
       "<table border=\"1\" class=\"dataframe\">\n",
       "  <thead>\n",
       "    <tr style=\"text-align: right;\">\n",
       "      <th></th>\n",
       "      <th>Total Product Orders</th>\n",
       "      <th>Reordered Count</th>\n",
       "      <th>Ratio</th>\n",
       "    </tr>\n",
       "    <tr>\n",
       "      <th>product_name</th>\n",
       "      <th></th>\n",
       "      <th></th>\n",
       "      <th></th>\n",
       "    </tr>\n",
       "  </thead>\n",
       "  <tbody>\n",
       "    <tr>\n",
       "      <th>Banana</th>\n",
       "      <td>472565</td>\n",
       "      <td>398609.0</td>\n",
       "      <td>0.843501</td>\n",
       "    </tr>\n",
       "    <tr>\n",
       "      <th>Bag of Organic Bananas</th>\n",
       "      <td>379450</td>\n",
       "      <td>315913.0</td>\n",
       "      <td>0.832555</td>\n",
       "    </tr>\n",
       "    <tr>\n",
       "      <th>Organic Strawberries</th>\n",
       "      <td>264683</td>\n",
       "      <td>205845.0</td>\n",
       "      <td>0.777704</td>\n",
       "    </tr>\n",
       "    <tr>\n",
       "      <th>Organic Baby Spinach</th>\n",
       "      <td>241921</td>\n",
       "      <td>186884.0</td>\n",
       "      <td>0.772500</td>\n",
       "    </tr>\n",
       "    <tr>\n",
       "      <th>Organic Hass Avocado</th>\n",
       "      <td>213584</td>\n",
       "      <td>170131.0</td>\n",
       "      <td>0.796553</td>\n",
       "    </tr>\n",
       "    <tr>\n",
       "      <th>...</th>\n",
       "      <td>...</td>\n",
       "      <td>...</td>\n",
       "      <td>...</td>\n",
       "    </tr>\n",
       "    <tr>\n",
       "      <th>Orange Flavored Ice Cubes</th>\n",
       "      <td>1</td>\n",
       "      <td>0.0</td>\n",
       "      <td>0.000000</td>\n",
       "    </tr>\n",
       "    <tr>\n",
       "      <th>Orange Flavored Mints</th>\n",
       "      <td>11</td>\n",
       "      <td>0.0</td>\n",
       "      <td>0.000000</td>\n",
       "    </tr>\n",
       "    <tr>\n",
       "      <th>Spicy Brown Hot Mustard</th>\n",
       "      <td>17</td>\n",
       "      <td>0.0</td>\n",
       "      <td>0.000000</td>\n",
       "    </tr>\n",
       "    <tr>\n",
       "      <th>Tuscan Style Portobella Mushrooms</th>\n",
       "      <td>10</td>\n",
       "      <td>0.0</td>\n",
       "      <td>0.000000</td>\n",
       "    </tr>\n",
       "    <tr>\n",
       "      <th>Classic Lasagna Velveeta Cheesy Skillets</th>\n",
       "      <td>2</td>\n",
       "      <td>0.0</td>\n",
       "      <td>0.000000</td>\n",
       "    </tr>\n",
       "  </tbody>\n",
       "</table>\n",
       "<p>49688 rows × 3 columns</p>\n",
       "</div>"
      ],
      "text/plain": [
       "                                          Total Product Orders  \\\n",
       "product_name                                                     \n",
       "Banana                                                  472565   \n",
       "Bag of Organic Bananas                                  379450   \n",
       "Organic Strawberries                                    264683   \n",
       "Organic Baby Spinach                                    241921   \n",
       "Organic Hass Avocado                                    213584   \n",
       "...                                                        ...   \n",
       "Orange Flavored Ice Cubes                                    1   \n",
       "Orange Flavored Mints                                       11   \n",
       "Spicy Brown Hot Mustard                                     17   \n",
       "Tuscan Style Portobella Mushrooms                           10   \n",
       "Classic Lasagna Velveeta Cheesy Skillets                     2   \n",
       "\n",
       "                                          Reordered Count     Ratio  \n",
       "product_name                                                         \n",
       "Banana                                           398609.0  0.843501  \n",
       "Bag of Organic Bananas                           315913.0  0.832555  \n",
       "Organic Strawberries                             205845.0  0.777704  \n",
       "Organic Baby Spinach                             186884.0  0.772500  \n",
       "Organic Hass Avocado                             170131.0  0.796553  \n",
       "...                                                   ...       ...  \n",
       "Orange Flavored Ice Cubes                             0.0  0.000000  \n",
       "Orange Flavored Mints                                 0.0  0.000000  \n",
       "Spicy Brown Hot Mustard                               0.0  0.000000  \n",
       "Tuscan Style Portobella Mushrooms                     0.0  0.000000  \n",
       "Classic Lasagna Velveeta Cheesy Skillets              0.0  0.000000  \n",
       "\n",
       "[49688 rows x 3 columns]"
      ]
     },
     "execution_count": 50,
     "metadata": {},
     "output_type": "execute_result"
    }
   ],
   "source": [
    "popular_prod_4 = popular_prod_2.sort_values('Reordered Count', ascending=False)\n",
    "popular_prod_4"
   ]
  },
  {
   "cell_type": "markdown",
   "metadata": {},
   "source": [
    "The 3 most reordered products were Banana, Bag of Organic Bananas and Organic Strawberries."
   ]
  },
  {
   "cell_type": "markdown",
   "metadata": {},
   "source": [
    "Q5. Find out the products which attract the most unique number of customers?"
   ]
  },
  {
   "cell_type": "code",
   "execution_count": 51,
   "metadata": {
    "execution": {
     "iopub.status.busy": "2024-11-14T23:05:25.295093Z",
     "iopub.status.idle": "2024-11-14T23:05:25.295451Z",
     "shell.execute_reply": "2024-11-14T23:05:25.295290Z",
     "shell.execute_reply.started": "2024-11-14T23:05:25.295273Z"
    }
   },
   "outputs": [
    {
     "data": {
      "text/plain": [
       "product_name\n",
       "#2 Coffee Filters                                                  520\n",
       "#2 Cone White Coffee Filters                                        10\n",
       "#2 Mechanical Pencils                                                8\n",
       "#4 Natural Brown Coffee Filters                                    152\n",
       "& Go! Hazelnut Spread + Pretzel Sticks                              77\n",
       "                                                                  ... \n",
       "with Xylitol Unwrapped Original Flavor 50 Sticks Sugar Free Gum     20\n",
       "with Xylitol Unwrapped Spearmint 50 Sticks Sugar Free Gum           36\n",
       "with Xylitol Watermelon Twist 18 Sticks Sugar Free Gum              37\n",
       "with a Splash of Mango Coconut Water                                17\n",
       "with a Splash of Pineapple Coconut Water                            28\n",
       "Name: user_id, Length: 49688, dtype: int64"
      ]
     },
     "execution_count": 51,
     "metadata": {},
     "output_type": "execute_result"
    }
   ],
   "source": [
    "unique_cust_1 = final_join.groupby('product_name')['user_id'].nunique()\n",
    "unique_cust_1"
   ]
  },
  {
   "cell_type": "code",
   "execution_count": 52,
   "metadata": {
    "execution": {
     "iopub.status.busy": "2024-11-14T23:05:25.296787Z",
     "iopub.status.idle": "2024-11-14T23:05:25.297280Z",
     "shell.execute_reply": "2024-11-14T23:05:25.297040Z",
     "shell.execute_reply.started": "2024-11-14T23:05:25.297013Z"
    }
   },
   "outputs": [
    {
     "data": {
      "text/plain": [
       "product_name\n",
       "Banana                                    73956\n",
       "Bag of Organic Bananas                    63537\n",
       "Organic Strawberries                      58838\n",
       "Organic Baby Spinach                      55037\n",
       "Large Lemon                               46402\n",
       "                                          ...  \n",
       "Non-Dairy Coconut Seven Layer Bar             0\n",
       "Sweetart Jelly Beans                          0\n",
       "Wasabi Cheddar Spreadable Cheese              0\n",
       "Chocolate Go Bites                            0\n",
       "Unpeeled Apricot Halves in Heavy Syrup        0\n",
       "Name: user_id, Length: 49688, dtype: int64"
      ]
     },
     "execution_count": 52,
     "metadata": {},
     "output_type": "execute_result"
    }
   ],
   "source": [
    "unique_cust_1 = unique_cust_1.sort_values(ascending=False)\n",
    "unique_cust_1"
   ]
  },
  {
   "cell_type": "markdown",
   "metadata": {},
   "source": [
    "Top 5 products with unique customers are Banana, Bag of Organic Bananas, Organic Strawberries, Organic Baby Spinach and Large Lemon."
   ]
  },
  {
   "cell_type": "code",
   "execution_count": 53,
   "metadata": {
    "execution": {
     "iopub.status.busy": "2024-11-14T23:05:25.298470Z",
     "iopub.status.idle": "2024-11-14T23:05:25.298944Z",
     "shell.execute_reply": "2024-11-14T23:05:25.298747Z",
     "shell.execute_reply.started": "2024-11-14T23:05:25.298723Z"
    }
   },
   "outputs": [
    {
     "data": {
      "text/plain": [
       "(32434500, 15)"
      ]
     },
     "execution_count": 53,
     "metadata": {},
     "output_type": "execute_result"
    }
   ],
   "source": [
    "final_join.shape"
   ]
  },
  {
   "cell_type": "code",
   "execution_count": 54,
   "metadata": {
    "execution": {
     "iopub.status.busy": "2024-11-14T23:05:25.300783Z",
     "iopub.status.idle": "2024-11-14T23:05:25.301332Z",
     "shell.execute_reply": "2024-11-14T23:05:25.301085Z",
     "shell.execute_reply.started": "2024-11-14T23:05:25.301057Z"
    }
   },
   "outputs": [
    {
     "data": {
      "text/plain": [
       "(5000000, 15)"
      ]
     },
     "execution_count": 54,
     "metadata": {},
     "output_type": "execute_result"
    }
   ],
   "source": [
    "final_join_BI = final_join[0:5000000]\n",
    "final_join_BI.shape"
   ]
  },
  {
   "cell_type": "code",
   "execution_count": null,
   "metadata": {
    "execution": {
     "iopub.status.busy": "2024-11-14T23:05:25.303038Z",
     "iopub.status.idle": "2024-11-14T23:05:25.303555Z",
     "shell.execute_reply": "2024-11-14T23:05:25.303308Z",
     "shell.execute_reply.started": "2024-11-14T23:05:25.303281Z"
    }
   },
   "outputs": [],
   "source": [
    "final_join.to_csv('BI_Data_InstaCart.csv')"
   ]
  },
  {
   "cell_type": "code",
   "execution_count": null,
   "metadata": {},
   "outputs": [],
   "source": []
  }
 ],
 "metadata": {
  "kaggle": {
   "accelerator": "none",
   "dataSources": [
    {
     "datasetId": 6089032,
     "sourceId": 9910074,
     "sourceType": "datasetVersion"
    }
   ],
   "dockerImageVersionId": 30786,
   "isGpuEnabled": false,
   "isInternetEnabled": true,
   "language": "python",
   "sourceType": "notebook"
  },
  "kernelspec": {
   "display_name": "Python 3 (ipykernel)",
   "language": "python",
   "name": "python3"
  },
  "language_info": {
   "codemirror_mode": {
    "name": "ipython",
    "version": 3
   },
   "file_extension": ".py",
   "mimetype": "text/x-python",
   "name": "python",
   "nbconvert_exporter": "python",
   "pygments_lexer": "ipython3",
   "version": "3.9.13"
  }
 },
 "nbformat": 4,
 "nbformat_minor": 4
}
